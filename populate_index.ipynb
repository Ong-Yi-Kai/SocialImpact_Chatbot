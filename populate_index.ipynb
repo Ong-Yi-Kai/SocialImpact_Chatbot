{
 "cells": [
  {
   "cell_type": "code",
   "execution_count": 2,
   "metadata": {
    "collapsed": true,
    "ExecuteTime": {
     "end_time": "2023-08-03T21:50:35.550215700Z",
     "start_time": "2023-08-03T21:50:32.084255100Z"
    }
   },
   "outputs": [],
   "source": [
    "import os\n",
    "import json\n",
    "import string\n",
    "\n",
    "from langchain.document_loaders import DirectoryLoader\n",
    "from langchain.text_splitter import RecursiveCharacterTextSplitter, SpacyTextSplitter,\\\n",
    "TokenTextSplitter, CharacterTextSplitter\n",
    "from transformers import GPT2TokenizerFast\n",
    "from langchain.embeddings.openai import OpenAIEmbeddings\n",
    "import streamlit as st\n",
    "from bs4 import BeautifulSoup\n",
    "from src.ScopusRetriever import ScopusRetriever\n",
    "from typing import List"
   ]
  },
  {
   "cell_type": "markdown",
   "source": [
    "## Clean Court Cases"
   ],
   "metadata": {
    "collapsed": false
   }
  },
  {
   "cell_type": "code",
   "execution_count": 3,
   "outputs": [
    {
     "name": "stdout",
     "output_type": "stream",
     "text": [
      "Read and wrote A.K. v. A.K., 2020 Del. Fam. Ct. LEXIS 29.rtf\n",
      "Read and wrote Acushnet Co. v. Amoco Oil Co., 1998 Mass. Super. LEXIS 325.rtf\n",
      "Read and wrote Admiral Ins. Co. v. Fire-Dex, LLC, 2022 U.S. Dist. LEXIS 198034.rtf\n",
      "Read and wrote All Is. Credit Corp. v Popular Brokerage Corp., 2020 N.Y. Misc. LEXIS 3589.rtf\n",
      "Read and wrote All Island Credit Corp. v. Popular Brokerage Corp., Popular Brokerage Corp., J.J. Farber-Lottman Co.rtf\n",
      "Read and wrote Altland v. Diehl, 2022 Pa. Super. Unpub. LEXIS 548.rtf\n",
      "Read and wrote Am. Apparel & Footwear Ass'n v. Allen, 608 F. Supp. 3d 1005.rtf\n",
      "Read and wrote American Petroleum Institute v. New Jersey Dept. of Environmental Protection, 230 N.J. Super. 563.rtf\n",
      "Read and wrote Amplex Mfg. Co. v. A.B.C. Plastic Fabricators, Inc., 184 F. Supp. 285.rtf\n",
      "Read and wrote Anderson v. Ga. Gulf Lake Charles, LLC, 2008 U.S. Dist. LEXIS 136412.rtf\n",
      "Read and wrote Andrews v. P&G, 2019 U.S. Dist. LEXIS 211567.rtf\n",
      "Read and wrote Anthony Ferreiro v. Elite Home Prods., 2020 Cal. Super. LEXIS 13392.rtf\n",
      "Read and wrote Anthony Ferreiro v. Elite Home Prods., 2020 Cal. Super. LEXIS 62106.rtf\n",
      "Read and wrote Arizona Premium Fin. Co., Inc. v American Tr. Ins. Co., 2017 N.Y. Misc. LEXIS 1861.rtf\n",
      "Read and wrote Associated Indem. Corp. v. Dow Chem. Co., 248 F. Supp. 2d 629.rtf\n",
      "Read and wrote B. v. B., 2022 Del. Fam. Ct. LEXIS 22.rtf\n",
      "Read and wrote Baker v. St.-Gobain Performance Plastics Corp., 2021 U.S. Dist. LEXIS 117558.rtf\n",
      "Read and wrote Balabbo v. Creations, 2017 Cal. Super. LEXIS 19432.rtf\n",
      "Read and wrote Balabbo v. Creations, 2017 Cal. Super. LEXIS 23809.rtf\n",
      "Read and wrote Balabbo v. Michaels Cos., 2017 Cal. Super. LEXIS 19669.rtf\n",
      "Read and wrote Balabbo v. Michaels Cos., 2017 Cal. Super. LEXIS 66497.rtf\n",
      "Read and wrote Balabbo v. Michaels Cos., 2019 Cal. Super. LEXIS 27483.rtf\n",
      "Read and wrote Balabbo v. Michaels Cos., 2019 Cal. Super. LEXIS 81366.rtf\n",
      "Read and wrote Bell v. Abus United States Llc, 2018 Cal. Super. LEXIS 34660.rtf\n",
      "Read and wrote Bell v. Abus United States Llc, 2018 Cal. Super. LEXIS 99734.rtf\n",
      "Read and wrote Bell v. Apparel, 2017 Cal. Super. LEXIS 79477.rtf\n",
      "Read and wrote Bell v. Apparel, 2017 Cal. Super. LEXIS 86855.rtf\n",
      "Read and wrote Bell v. Aqua Lung Am., 2017 Cal. Super. LEXIS 19447.rtf\n",
      "Read and wrote Bell v. Aqua Lung Am., 2017 Cal. Super. LEXIS 19659.rtf\n",
      "Read and wrote Bell v. Beauty Collective, 2018 Cal. Super. LEXIS 98242.rtf\n",
      "Read and wrote Bell v. Beauty Collective, 2018 Cal. Super. LEXIS 98996.rtf\n",
      "Read and wrote Bell v. Cousin Corp. of Am., 2019 Cal. Super. LEXIS 80366.rtf\n",
      "Read and wrote Bell v. M. Jacob & Sons, 2017 Cal. Super. LEXIS 23802.rtf\n",
      "Read and wrote Bell v. M. Jacob & Sons, 2017 Cal. Super. LEXIS 66453.rtf\n",
      "Read and wrote Belter v. City of Burlington, 2022 Vt. Super. LEXIS 108.rtf\n",
      "Read and wrote Berry v. Kabacinski, 704 Fed. Appx. 71.rtf\n",
      "Read and wrote Binakonsky v. JM Brands, Inc., 2022 U.S. Dist. LEXIS 124460.rtf\n",
      "Read and wrote Blacksmith v. Dewitt, 2018 Del. Fam. Ct. LEXIS 46.rtf\n",
      "Read and wrote Bond v. Solvay Specialty Polymers, USA, LLC, 583 F. Supp. 3d 643.rtf\n",
      "Read and wrote Borough of Edgewater v. Waterside Constr., LLC, 2022 U.S. Dist. LEXIS 32404.rtf\n",
      "Read and wrote Bradford v. CITGO Petroleum Corp., 237 So. 3d 648.rtf\n",
      "Read and wrote Briese v. Conoco-Phillips Co., 2009 U.S. Dist. LEXIS 11772.rtf\n",
      "Read and wrote Brown v. City of Phila., 541 F. Supp. 3d 605.rtf\n",
      "Read and wrote Brown v. Georgia Gulf Lake Charles, LLC, 104 So. 3d 730.rtf\n",
      "Read and wrote Brown v. Madison Reed, Inc., 2021 U.S. Dist. LEXIS 164002.rtf\n",
      "Read and wrote Brown v. St.-Gobain Performance Plastics Corp., 2017 DNH 246.rtf\n",
      "Read and wrote Bulk Transport, Inc. v. Louisiana Public Service Com., 252 La. 9.rtf\n",
      "Read and wrote C.F.B. v. Hayden, 2019 U.S. Dist. LEXIS 46846.rtf\n",
      "Read and wrote C.H. v. R.T., 2021 Del. Fam. Ct. LEXIS 20.rtf\n",
      "Read and wrote C.S. v. L.C., 2017 Pa. Dist. & Cnty. Dec. LEXIS 3151.rtf\n",
      "Read and wrote Calacin v. Staedtler-Mars Ltd., 2017 Cal. Super. LEXIS 30883.rtf\n",
      "Read and wrote Calacin v. Staedtler-Mars Ltd., 2017 Cal. Super. LEXIS 74785.rtf\n",
      "Read and wrote Campas v. Clark, 2018 U.S. Dist. LEXIS 176540.rtf\n",
      "Read and wrote Cape Fear Pub. Util. Auth. v. Chemours Co. FC, LLC, 2019 U.S. Dist. LEXIS 250943.rtf\n",
      "Read and wrote City of Corona v. 3M Co., 2021 U.S. Dist. LEXIS 162833.rtf\n",
      "Read and wrote City of Stuart v. 3M Co. (In re Aqueous Film-Forming Foams Prods. Liab. Litig.), 2022 U.S. Dist. LEX.rtf\n",
      "Read and wrote Clarke v. Kraft Heinz Co., 2021 U.S. Dist. LEXIS 170314.rtf\n",
      "Read and wrote Commonwealth v. Agnew, 2017 Pa. Super. Unpub. LEXIS 2148.rtf\n",
      "Read and wrote Commonwealth v. Alexander, 2017 Pa. Super. Unpub. LEXIS 3508.rtf\n",
      "Read and wrote Commonwealth v. Gad, 2019 Pa. Super. Unpub. LEXIS 3724.rtf\n",
      "Read and wrote Commonwealth v. Gomez, 2017 Pa. Dist. & Cnty. Dec. LEXIS 3772.rtf\n",
      "Read and wrote Commonwealth v. Ivy, 2019 Pa. Super. Unpub. LEXIS 2878.rtf\n",
      "Read and wrote Commonwealth v. Ivy, 2022 Pa. Super. Unpub. LEXIS 1197.rtf\n",
      "Read and wrote Commonwealth v. Kline, 277 Pa. Super. 486.rtf\n",
      "Read and wrote Commonwealth v. Lemo, 2020 Pa. Super. Unpub. LEXIS 1930.rtf\n",
      "Read and wrote Commonwealth v. McDaniel, 2017 Pa. Super. Unpub. LEXIS 680.rtf\n",
      "Read and wrote Commonwealth v. Myers, 2019 Pa. Dist. & Cnty. Dec. LEXIS 5828.rtf\n",
      "Read and wrote Commonwealth v. Pleskonko, 2018 Pa. Super. Unpub. LEXIS 1262.rtf\n",
      "Read and wrote Commonwealth v. Plowden, 2019 Pa. Super. Unpub. LEXIS 3376.rtf\n",
      "Read and wrote Commonwealth v. Rought, 2020 Pa. Super. Unpub. LEXIS 1693.rtf\n",
      "Read and wrote Commonwealth v. Sousa, 88 Mass. App. Ct. 47.rtf\n",
      "Read and wrote Commonwealth v. Williams, 2020 Pa. Super. Unpub. LEXIS 2867.rtf\n",
      "Read and wrote Commonwealth v. Wilson, 2017 Pa. Dist. & Cnty. Dec. LEXIS 8154.rtf\n",
      "Read and wrote Cornett v. Northrop Grumman Corp., 2020 U.S. Dist. LEXIS 1566.rtf\n",
      "Read and wrote Ctr. for Advanced Pub. Awareness v. Jvckenwood United States Corp., 2019 Cal. Super. LEXIS 29741.rtf\n",
      "Read and wrote Ctr. for Advanced Pub. Awareness v. Jvckenwood United States Corp., 2019 Cal. Super. LEXIS 94348.rtf\n",
      "Read and wrote Ctr. for Env't Health v. Env't Prot. Agency, 2022 U.S. Dist. LEXIS 83553.rtf\n",
      "Read and wrote Cummings v. Ill. Workers' Comp. Comm'n, 2022 IL App (1st) 210956WC-U.rtf\n",
      "Read and wrote Dawood v. Gamer Advantage LLC, 2022 U.S. Dist. LEXIS 138774.rtf\n",
      "Read and wrote Day v. Dep't of Env't, Great Lakes, & Energy, 2022 Mich. App. LEXIS 2202.rtf\n",
      "Read and wrote Del. Riverkeeper Network v. Pa. Dep't of Envtl. Prot., 2021 Pa. Commw. Unpub. LEXIS 42.rtf\n",
      "Read and wrote Dipirro v. Harland Clarke Corp., 2017 Cal. Super. LEXIS 22615.rtf\n",
      "Read and wrote Dipirro v. Harland Clarke Corp., 2017 Cal. Super. LEXIS 66370.rtf\n",
      "Read and wrote E. I. du Pont de Nemours & Co. v. United States, 1978 U.S. Ct. Cl. LEXIS 694.rtf\n",
      "Read and wrote E.K. v. J.R.A., 2020 PA Super 184.rtf\n",
      "Read and wrote Emabell v. Cousin Corp. of Am., 2019 Cal. Super. LEXIS 73301.rtf\n",
      "Read and wrote Ernest S. Ryder & Assocs., Inc., APLC v. Comm'r, T.C. Memo 2021-88.rtf\n",
      "Read and wrote Espinosa v. Auto., 2017 Cal. Super. LEXIS 22620.rtf\n",
      "Read and wrote Espinosa v. Auto., 2017 Cal. Super. LEXIS 22622.rtf\n",
      "Read and wrote Espinosa v. Huffy Corp, 2017 Cal. Super. LEXIS 72449.rtf\n",
      "Read and wrote Espinosa v. L.C. Indus., 2017 Cal. Super. LEXIS 22630.rtf\n",
      "Read and wrote Espinosa v. L.C. Indus., 2017 Cal. Super. LEXIS 66354.rtf\n",
      "Read and wrote Espinoza v. Muji U.S.A., 2020 Cal. Super. LEXIS 70691.rtf\n",
      "Read and wrote Ferreiro v. Arkon Res., 2019 Cal. Super. LEXIS 15320.rtf\n",
      "Read and wrote Ferreiro v. Bass Pro Outdoor World, 2017 Cal. Super. LEXIS 19678.rtf\n",
      "Read and wrote Ferreiro v. Bass Pro Outdoor World, 2017 Cal. Super. LEXIS 23171.rtf\n",
      "Read and wrote Ferreiro v. Great Star Indus. United States, 2017 Cal. Super. LEXIS 19660.rtf\n",
      "Read and wrote Ferreiro v. Great Star Indus. United States, 2017 Cal. Super. LEXIS 54873.rtf\n",
      "Read and wrote Ferreiro v. Kentak Prods. Co., 2017 Cal. Super. LEXIS 23047.rtf\n",
      "Read and wrote Ferreiro v. Kentak Prods. Co., 2017 Cal. Super. LEXIS 23793.rtf\n",
      "Read and wrote Ferreiro v. Macy's Corporate Servs., 2020 Cal. Super. LEXIS 8811.rtf\n",
      "Read and wrote Ferreiro v. Zagg, Inc., 2017 Cal. Super. LEXIS 22627.rtf\n",
      "Read and wrote Ferreiro v. Zagg, Inc., 2017 Cal. Super. LEXIS 79469.rtf\n",
      "Read and wrote Formosa Plastics Corp. v. Sturge, 684 F. Supp. 359.rtf\n",
      "Read and wrote Formosa Plastics Corp. v. Sturge, 848 F.2d 390.rtf\n",
      "Read and wrote Franklin v. Middlesex Water Co., 2022 U.S. Dist. LEXIS 192333.rtf\n",
      "Read and wrote Gad v. DA of the Cnty. of Northampton, 2021 U.S. Dist. LEXIS 129167.rtf\n",
      "Read and wrote Gainer v. State, 2019 Del. Super. LEXIS 328.rtf\n",
      "Read and wrote General Aniline Works, 4 Cust. Ct. 458.rtf\n",
      "Read and wrote GENERAL DYESTUFF CORP. v. UNITED STATES, 6 Cust. Ct. 391.rtf\n",
      "Read and wrote Giovanni v. United States Dep't of the Navy, 433 F. Supp. 3d 736.rtf\n",
      "Read and wrote Greiser v. Drinkard, 516 F. Supp. 3d 430.rtf\n",
      "Read and wrote GVC Ltd. v. Valley Nat'l Bank, 2022 N.J. Super. Unpub. LEXIS 1572.rtf\n",
      "Read and wrote H.L.J. v. S.W., 2019 Del. Fam. Ct. LEXIS 33.rtf\n",
      "Read and wrote H.T.R. v. N.B.S., 2019 Pa. Super. Unpub. LEXIS 3142.rtf\n",
      "Read and wrote Hardwick v. 3M Co., 2019 U.S. Dist. LEXIS 169322.rtf\n",
      "Read and wrote Hardwick v. 3M Co., 2020 U.S. Dist. LEXIS 136996.rtf\n",
      "Read and wrote Henry v. Formosa Plastics Corp., 1985 Del. Super. LEXIS 1095.rtf\n",
      "Read and wrote Henry v. Formosa Plastics Corp., 1990 Del. LEXIS 197.rtf\n",
      "Read and wrote Henry v. Formosa Plastics Corp., 544 A.2d 265.rtf\n",
      "Read and wrote Henry v. Industrial Acci. Bd., 1988 Del. Super. LEXIS 7.rtf\n",
      "Read and wrote Higgins v. Huhtamaki, Inc., 2022 U.S. Dist. LEXIS 111062.rtf\n",
      "Read and wrote Higgins v. Huhtamaki, Inc., 2022 U.S. Dist. LEXIS 30736.rtf\n",
      "Read and wrote Hood v. Water Treatment & Controls Co., 2016 U.S. Dist. LEXIS 162695.rtf\n",
      "Read and wrote Hood v. Water Treatment & Controls Co., 2016 U.S. Dist. LEXIS 162696.rtf\n",
      "Read and wrote Hood v. Water Treatment & Controls Co., 2016 U.S. Dist. LEXIS 162697.rtf\n",
      "Read and wrote In re 3M Co. Secs. Litig., 2021 U.S. Dist. LEXIS 188321.rtf\n",
      "Read and wrote In re 3M Co., 2020 U.S. App. LEXIS 36961.rtf\n",
      "Read and wrote In re Annie's Mac & Cheese Litig., 2021 U.S. Dist. LEXIS 206525.rtf\n",
      "Read and wrote In re Aqueous Film-Forming Foams Prods. Liab. Litig., 2021 U.S. Dist. LEXIS 16470.rtf\n",
      "Read and wrote In re Aqueous Film-Forming Foams Prods. Liab. Litig., 2021 U.S. Dist. LEXIS 21511.rtf\n",
      "Read and wrote In re Aqueous Film-Forming Foams Prods. Liab. Litig., 2021 U.S. Dist. LEXIS 237221.rtf\n",
      "Read and wrote In re Aqueous Film-Forming Foams Prods. Liab. Litig., 2022 U.S. Dist. LEXIS 168634.rtf\n",
      "Read and wrote In re Aqueous Film-Forming Foams Prods. Liab. Litig., 2022 U.S. Dist. LEXIS 43057.rtf\n",
      "Read and wrote In re Aqueous Film-Forming Foams Prods. Liab. Litig., 2022 U.S. Dist. LEXIS 43060.rtf\n",
      "Read and wrote In re Aqueous Film-Forming Foams Prods. Liab. Litig., 2022 U.S. Dist. LEXIS 45730.rtf\n",
      "Read and wrote In re Aqueous Film-Forming Foams Prods. Liab. Litig., 2023 U.S. Dist. LEXIS 145.rtf\n",
      "Read and wrote In re Atna Res., 2020 Bankr. LEXIS 2185.rtf\n",
      "Read and wrote In re B.V., 2021 Pa. Super. Unpub. LEXIS 1734.rtf\n",
      "Read and wrote In re BLOOMER, 37 C.C.P.A. 770(2).rtf\n",
      "Read and wrote In re BLOOMER, 37 C.C.P.A. 770.rtf\n",
      "Read and wrote In re C.V.C., 2018 Del. Fam. Ct. LEXIS 50.rtf\n",
      "Read and wrote In re Cavanagh, 58 C.C.P.A. 856.rtf\n",
      "Read and wrote In re Chemours Co. Derivative Litig., 2021 Del. Ch. LEXIS 258.rtf\n",
      "Read and wrote In re Chemours Co. Secs. Litig., 587 F. Supp. 3d 143.rtf\n",
      "Read and wrote In re Chlorine & Caustic Soda Antitrust Litigation, 116 F.R.D. 622.rtf\n",
      "Read and wrote In re Cole, 51 C.C.P.A. 919.rtf\n",
      "Read and wrote In re Coleman, 621 F.2d 1141.rtf\n",
      "Read and wrote In re De Jong, 57 C.C.P.A. 701.rtf\n",
      "Read and wrote In re E.I. Dupont de Nemours & Co. C-8 Pers. Injury Litig., 2022 U.S. App. LEXIS 25452.rtf\n",
      "Read and wrote In re Egbert, 49 C.C.P.A. 888.rtf\n",
      "Read and wrote In re Harrington, 56 C.C.P.A. 1055.rtf\n",
      "Read and wrote In re Hermosillo, 2019 Bankr. LEXIS 298.rtf\n",
      "Read and wrote In re J.S., 2020 Pa. Super. Unpub. LEXIS 917.rtf\n",
      "Read and wrote In re J.V., 2021 Pa. Super. Unpub. LEXIS 1744.rtf\n",
      "Read and wrote In re Kaiser Gypsum Co., 2020 Bankr. LEXIS 3208.rtf\n",
      "Read and wrote In re M.E.M., 2017 Pa. Super. Unpub. LEXIS 3655.rtf\n",
      "Read and wrote In re Marsh Supermarkets Holding, LLC, 2017 Bankr. LEXIS 3948.rtf\n",
      "Read and wrote In re Migrdichian, 27 C.C.P.A. 806.rtf\n",
      "Read and wrote In re Migrdichian, 29 C.C.P.A. 1110.rtf\n",
      "Read and wrote In re Monat Hair Care Prods. Mktg., Sales Practices, & Prods. Liab. Litig., 2019 U.S. Dist. LEXIS 18.rtf\n",
      "Read and wrote In re River City Towing Servs., 2003 U.S. Dist. LEXIS 595.rtf\n",
      "Read and wrote In re River City Towing Servs., 204 F.R.D. 94.rtf\n",
      "Read and wrote In re Snow, 471 F.2d 1400.rtf\n",
      "Read and wrote In re Spradling, 315 Kan. 552.rtf\n",
      "Read and wrote In the Interest of A.C.C., 2017 Pa. Super. Unpub. LEXIS 1534.rtf\n",
      "Read and wrote In the Interest of B.S., 2018 Pa. Super. Unpub. LEXIS 3002.rtf\n",
      "Read and wrote In the Interest of C.A.P., 2021 Pa. Super. Unpub. LEXIS 3119.rtf\n",
      "Read and wrote In the Interest of K.A.H.T.E., 2019 Pa. Super. Unpub. LEXIS 4740.rtf\n",
      "Read and wrote International Vitamin Corp. v. E. R. Squibb & Sons, 13 F. Supp. 129.rtf\n",
      "Read and wrote International Vitamin Corp. v. E. R. Squibb & Sons, 59 F.2d 433.rtf\n",
      "Read and wrote International Vitamin Corp. v. E. R. Squibb & Sons, 64 F.2d 20.rtf\n",
      "Read and wrote J-R v. L--- R, 2019 Del. Fam. Ct. LEXIS 22.rtf\n",
      "Read and wrote J. v. M., 2018 Del. Fam. Ct. LEXIS 52.rtf\n",
      "Read and wrote J.D.D. v. M.D., 2020 Pa. Super. Unpub. LEXIS 134.rtf\n",
      "Read and wrote J.R. v. A.R., 2020 Del. Fam. Ct. LEXIS 55.rtf\n",
      "Read and wrote James Constr. Grp., LLC v. Westlake Chem. Corp., 650 S.W.3d 392.rtf\n",
      "Read and wrote James River Ins. Co. v. Dalton-Whitfield Reg'l Solid Waste Mgmt. Auth., 2022 U.S. Dist. LEXIS 238961.rtf\n",
      "Read and wrote Jims Colony Vrain Owner Llc v. Vrain St. Inv Llc, 2020 Colo. Dist. LEXIS 1836.rtf\n",
      "Read and wrote Jims Colony Vrain Owner Llc v. Vrain St. Inv Llc, 2020 Colo. Dist. LEXIS 1853.rtf\n",
      "Read and wrote Johnson v. 3M Co., 55 F.4th 1304.rtf\n",
      "Read and wrote Johnson v. Packaging Corp. of Am., 2019 U.S. Dist. LEXIS 44968.rtf\n",
      "Read and wrote K.C. v. T.J., 2018 Del. Fam. Ct. LEXIS 47.rtf\n",
      "Read and wrote Kanan v. Thinx Inc., 2021 U.S. Dist. LEXIS 191225.rtf\n",
      "Read and wrote Ke.B.-W v. J.W., 2017 Pa. Super. Unpub. LEXIS 3093.rtf\n",
      "Read and wrote Keller v. Dep't of Human Servs., 2019 Pa. Commw. Unpub. LEXIS 546.rtf\n",
      "Read and wrote Kingpun Cheng v. Kenney Mfg., 2020 Cal. Super. LEXIS 7112.rtf\n",
      "Read and wrote Kinlaw v. The Chemours Co. FC, LLC, 2021 U.S. Dist. LEXIS 187994.rtf\n",
      "Read and wrote L. D. v. B. D., 2022 Del. Fam. Ct. LEXIS 31.rtf\n",
      "Read and wrote L.B. v. J.W., 2018 Pa. Super. Unpub. LEXIS 806.rtf\n",
      "Read and wrote Lanard Toys Ltd. v. Dolgencorp, LLC, 2021 U.S. Dist. LEXIS 259218.rtf\n",
      "Read and wrote Langley v. Larco Envtl. Servs., 798 So. 2d 1097.rtf\n",
      "Read and wrote Larson v. Westlake Vinyls, Inc., 2007 U.S. Dist. LEXIS 29044.rtf\n",
      "Read and wrote Lohr v. Chemours, 2021 U.S. Dist. LEXIS 263617.rtf\n",
      "Read and wrote Lonsk v. Middlesex Water Co., 2022 U.S. Dist. LEXIS 197998.rtf\n",
      "Read and wrote Lyondell Chem. Co. v. Albemarle Corp., 2011 U.S. Dist. LEXIS 173502.rtf\n",
      "Read and wrote Lyondell Chem. Co. v. Albemarle Corp., 2011 U.S. Dist. LEXIS 64184.rtf\n",
      "Read and wrote M.R. v. L.E., 2017 Del. Fam. Ct. LEXIS 24.rtf\n",
      "Read and wrote Mahoney v. United States DOI, 2022 U.S. Dist. LEXIS 67532.rtf\n",
      "Read and wrote Malone v. Workers' Comp. Appeal Bd. (City of Phila.), 2021 Pa. Commw. Unpub. LEXIS 11.rtf\n",
      "Read and wrote Mansell v. Ill. Workers' Comp. Comm'n, 2017 IL App (1st) 160911WC-U.rtf\n",
      "Read and wrote Marks v. 3M Co, 2021 U.S. Dist. LEXIS 224589.rtf\n",
      "Read and wrote Marks v. 3M Co., 2021 U.S. Dist. LEXIS 69998.rtf\n",
      "Read and wrote Martel v. Connor Contracting, Inc., 2018 VT 107.rtf\n",
      "Read and wrote Meitzner v. Corte, 537 F.2d 524.rtf\n",
      "Read and wrote Mexichem Specialty Resins, Inc. v. EPA, 787 F.3d 544.rtf\n",
      "Read and wrote Middlesex Water Co. v. 3M Co., 2022 U.S. Dist. LEXIS 198068.rtf\n",
      "Read and wrote Miller v. Olin Mathieson Chemical Corp., 398 S.W.2d 472.rtf\n",
      "Read and wrote Multicraft Imps. v. Mariposa United States, 2018 U.S. Dist. LEXIS 235828.rtf\n",
      "Read and wrote N.J. Dep't of Env't Prot. v. E.I. du Pont de Nemours & Co., 2022 U.S. Dist. LEXIS 153904.rtf\n",
      "Read and wrote N.J. Dep't of Envtl. Prot. v. E.I. du Pont de Nemours & Co., 2021 U.S. Dist. LEXIS 243048.rtf\n",
      "Read and wrote N.J. Dep't of Envtl. Prot. v. E.I. du Pont de Nemours & Co., 2021 U.S. Dist. LEXIS 244127.rtf\n",
      "Read and wrote N.J. Dep't of Envtl. Prot. v. E.I. du Pont de Nemours & Co., 2021 U.S. Dist. LEXIS 247973.rtf\n",
      "Read and wrote N.J. Dep't of Env_t Prot. v. E.I. du Pont de Nemours & Co., 2021 U.S. Dist. LEXIS 234888.rtf\n",
      "Read and wrote Nation Land Co. v. Owners Ins. Co., 2021 Ohio Misc. LEXIS 450.rtf\n",
      "Read and wrote National Union Fire Ins. Co. v. Stauffer Chemical Co., 1990 Del. Super. LEXIS 402.rtf\n",
      "Read and wrote Neuss v. Rubi Rose, L.L.C., 2018 U.S. Dist. LEXIS 7753.rtf\n",
      "Read and wrote Newell v. Law, 2022 U.S. Dist. LEXIS 50248.rtf\n",
      "Read and wrote Newell v. Newell, 2022 Pa. Super. Unpub. LEXIS 2494.rtf\n",
      "Read and wrote Nissho Iwai Corp. v. M_V Star Sapphire, 1995 U.S. Dist. LEXIS 21443.rtf\n",
      "Read and wrote NRDC v. United States Consumer Prod. Safety Comm'n, 2017 U.S. Dist. LEXIS 142868.rtf\n",
      "Read and wrote NRDC v. United States Consumer Prod. Safety Comm'n, 2017 U.S. Dist. LEXIS 143195.rtf\n",
      "Read and wrote Oliver v. Oliver, 2022 Pa. Super. Unpub. LEXIS 809.rtf\n",
      "Read and wrote Orange County Water Dist. v. 3m Co., 2021 Cal. Super. LEXIS 82156.rtf\n",
      "Read and wrote Ozark Steel Fabricators v. Srg Global, 2021 U.S. Dist. LEXIS 49983.rtf\n",
      "Read and wrote Ozark Steel Fabricators v. Srg Global, 2021 U.S. Dist. LEXIS 49985.rtf\n",
      "Read and wrote Ozark Steel Fabricators, Inc. v. SRG Global, LLC, 2021 U.S. Dist. LEXIS 112329.rtf\n",
      "Read and wrote Pacific Emplrs. Ins. Co. v. M_T Iver Champion, 1996 U.S. Dist. LEXIS 1826.rtf\n",
      "Read and wrote Parris v. 3M Co., 2022 U.S. Dist. LEXIS 113185.rtf\n",
      "Read and wrote Patton v. McDonough, 2022 U.S. App. Vet. Claims LEXIS 825.rtf\n",
      "Read and wrote Penna v. United States, 153 Fed. Cl. 6.rtf\n",
      "Read and wrote Plymouth Vill. Water & Sewer Dist. v. Scott, 2019 N.H. Super. LEXIS 18.rtf\n",
      "Read and wrote Plymouth Vill. Water & Sewer Dist. v. Scott, 2020 N.H. Super. LEXIS 19.rtf\n",
      "Read and wrote Polyone Corp. v. Westlake Vinyls, Inc., 2007 U.S. Dist. LEXIS 24471.rtf\n",
      "Read and wrote PolyOne Corp. v. Westlake Vinyls, Inc., 2018 U.S. Dist. LEXIS 89578.rtf\n",
      "Read and wrote Pope v. United States, 162 Fed. Cl. 566.rtf\n",
      "Read and wrote Priselac v. Chemours Co., 2022 U.S. Dist. LEXIS 54845.rtf\n",
      "Read and wrote Przybylak v. Bissell Better Life, LLC, 2019 U.S. Dist. LEXIS 228035.rtf\n",
      "Read and wrote R.F. v. M.C., 2017 Del. Fam. Ct. LEXIS 27.rtf\n",
      "Read and wrote R.S.L. v. C.N.L., 2017 Pa. Super. Unpub. LEXIS 34.rtf\n",
      "Read and wrote Richburg v. Conagra Brands, Inc., 2022 U.S. Dist. LEXIS 204092.rtf\n",
      "Read and wrote Rubik's Brand Ltd. v. Flambeau, Inc., 2020 U.S. Dist. LEXIS 81161.rtf\n",
      "Read and wrote Sacramento Suburban Water Dist. v. 3M Co., 2022 U.S. Dist. LEXIS 205600.rtf\n",
      "Read and wrote Safe Skies Clean Water Wis., Inc. v. Nat'l Guard Bureau, 578 F. Supp. 3d 998.rtf\n",
      "Read and wrote Saunders v. Sappi N. Am., Inc., 2021 U.S. Dist. LEXIS 240446.rtf\n",
      "Read and wrote Schmidt v. Int'l Playthings LLC, 536 F. Supp. 3d 856.rtf\n",
      "Read and wrote SCLC v. Supreme Court, 61 F. Supp. 2d 499.rtf\n",
      "Read and wrote Seidl v. Artsana USA, Inc., 2022 U.S. Dist. LEXIS 215323.rtf\n",
      "Read and wrote Sessions v. Workers' Comp. Appeal Bd. (City of Philadelphia), 2018 Pa. Commw. Unpub. LEXIS 163.rtf\n",
      "Read and wrote Severa v. Solvay Specialty Polymers USA, LLC, 524 F. Supp. 3d 381.rtf\n",
      "Read and wrote Shank v. Presidio Brands, Inc., 2018 U.S. Dist. LEXIS 10894.rtf\n",
      "Read and wrote Shefa Lmv v. Great Neck Saw Mfrs., 2017 Cal. Super. LEXIS 26040.rtf\n",
      "Read and wrote Shefa Lmv v. Great Neck Saw Mfrs., 2017 Cal. Super. LEXIS 8775.rtf\n",
      "Read and wrote Shefa Lmv v. Hallmark, 2022 Cal. Super. LEXIS 51893.rtf\n",
      "Read and wrote Shefa Lmv v. Michaels Stores, 2018 Cal. Super. LEXIS 34684.rtf\n",
      "Read and wrote Shefa Lmv v. Olivia Garden, 2020 Cal. Super. LEXIS 4380.rtf\n",
      "Read and wrote Shefa Lmv v. Sa, 2022 Cal. Super. LEXIS 11138.rtf\n",
      "Read and wrote Shefa Lmv v. Sa, 2022 Cal. Super. LEXIS 15421.rtf\n",
      "Read and wrote Shefa Lmv V.michaels Stores, 2018 Cal. Super. LEXIS 69961.rtf\n",
      "Read and wrote Shefa LMV, Inc. v. Earth Therapeutics, Inc., 2018 Cal. Super. LEXIS 14982.rtf\n",
      "Read and wrote Shefa LMV, Inc. v. Miworld Accessories LLC, 2020 Cal. Super. LEXIS 2838.rtf\n",
      "Read and wrote Shefalmv, 2019 Cal. Super. LEXIS 35424.rtf\n",
      "Read and wrote Shefalmv, 2019 Cal. Super. LEXIS 36238.rtf\n",
      "Read and wrote Sklodowska-Grezak v. Grezak, 2021 Pa. Super. Unpub. LEXIS 2328.rtf\n",
      "Read and wrote Soliz v. Davis, 2017 U.S. Dist. LEXIS 144286.rtf\n",
      "Read and wrote Solomon v. Parente, 2022 U.S. Dist. LEXIS 132160.rtf\n",
      "Read and wrote Solvay Speciality Polymers United States v. Paulsboro Ref. Co., 2022 N.J. Super. Unpub. LEXIS 1737.rtf\n",
      "Read and wrote State ex rel. Biser v. Chemours Co. FC, LLC, 284 N.C. App. 117.rtf\n",
      "Read and wrote State ex rel. Petro v. Pure Tech Sys., 2014 Ohio Misc. LEXIS 11939.rtf\n",
      "Read and wrote State ex rel. Stein v. E. I. du Pont de Nemours & Co., 382 N.C. 549.rtf\n",
      "Read and wrote State ex rel. Whitman, 2019 Ore. Cir. LEXIS 7832.rtf\n",
      "Read and wrote State v. 3m Co., 2020 N.H. Super. LEXIS 29.rtf\n",
      "Read and wrote State v. 3m Co., 2021 N.H. Super. LEXIS 5.rtf\n",
      "Read and wrote State v. Hamilton, 2017 Del. Super. LEXIS 457.rtf\n",
      "Read and wrote State v. Hamilton, 2017 Del. Super. LEXIS 504.rtf\n",
      "Read and wrote State v. St.-Gobain Performance Plastics Corp., 2019 Vt. Super. LEXIS 900.rtf\n",
      "Read and wrote Sullivan v. Kuffman, 2017 U.S. Dist. LEXIS 39651.rtf\n",
      "Read and wrote Sullivan v. Saint-Gobain Performance Plastics Corp., 2019 U.S. Dist. LEXIS 229518.rtf\n",
      "Read and wrote Sullivan v. St.-Gobain Performance Plastics Corp., 2019 U.S. Dist. LEXIS 238272.rtf\n",
      "Read and wrote Sweeney v. Geon Co., 2002 Tex. App. LEXIS 319.rtf\n",
      "Read and wrote T.C.T. v. J.E.T., 2020 Pa. Super. Unpub. LEXIS 631.rtf\n",
      "Read and wrote Tex. Ass'n of Mfrs. v. United States Consumer Prod. Safety Comm'n, 989 F.3d 368.rtf\n",
      "Read and wrote Thatcher v. Hack, 2021 Pa. Super. Unpub. LEXIS 3365.rtf\n",
      "Read and wrote Thompson v. Hens-Greco, 2017 U.S. Dist. LEXIS 154262.rtf\n",
      "Read and wrote Thompson v. Town of N. Kingstown Zoning Bd. of Appeals, 2022 R.I. Super. LEXIS 65.rtf\n",
      "Read and wrote Tibbetts v. 3m Co., 2022 U.S. Dist. LEXIS 14764.rtf\n",
      "Read and wrote Tinnus Enters., LLC v. Telebrands Corp., 2018 U.S. Dist. LEXIS 79068.rtf\n",
      "Read and wrote Town of Ayer v. 3M Co. (In re Aqueous Film-Forming Foams Prods. Liab. Litig.), 2022 U.S. Dist. LEXIS.rtf\n",
      "Read and wrote Turkos v. Borough, 721 Fed. Appx. 208.rtf\n",
      "Read and wrote Turkos v. Dupont Borough, 2017 U.S. Dist. LEXIS 49074.rtf\n",
      "Read and wrote Tyco Int'l Holdings S.A.R.L. v. Atkore Int'l Grp. Inc., 2018 U.S. Dist. LEXIS 219121.rtf\n",
      "Read and wrote Tyco Int'l Holdings, S.a.r.l. v. Atkore Int'l Grp., Inc., 2017 U.S. Dist. LEXIS 122700.rtf\n",
      "Read and wrote Underwriters at Lloyds v. M_T Ferncourt, 1995 U.S. Dist. LEXIS 470.rtf\n",
      "Read and wrote United States v. B.F. Goodrich Co., 609 F. Supp. 1.rtf\n",
      "Read and wrote United States v. Dixo Co., 1978 U.S. Dist. LEXIS 15651.rtf\n",
      "Read and wrote United States v. Dow Chemical Co., 695 F. Supp. 233.rtf\n",
      "Read and wrote United States v. Kliegman Bros., Inc., 1978 U.S. Dist. LEXIS 14310.rtf\n",
      "Read and wrote United States v. Lightman, 87 F. Supp. 2d 365.rtf\n",
      "Read and wrote United States v. McLaughlin, 607 F. Supp. 3d 522.rtf\n",
      "Read and wrote United States v. Nayak, 2022 U.S. Dist. LEXIS 81648.rtf\n",
      "Read and wrote UNITED STATES v. SANTO MENTA, 39 C.M.R. 956.rtf\n",
      "Read and wrote V.D.B. v. J.J.H., 2018 Pa. Super. Unpub. LEXIS 2251.rtf\n",
      "Read and wrote V.P.V. v. S.V., 2017 Pa. Super. Unpub. LEXIS 4075.rtf\n",
      "Read and wrote Vera v. Middlesex Water Co., 2022 N.J. Super. Unpub. LEXIS 774.rtf\n",
      "Read and wrote Vinocur v. Chocolates, 2017 Cal. Super. LEXIS 593.rtf\n",
      "Read and wrote Vulcan Chloralkali, L.L.C. v. Applied Indus. Refrigeration Tech., 2005 U.S. Dist. LEXIS 57660.rtf\n",
      "Read and wrote W. J. BYRNES & CO. v. UNITED STATES, 8 Cust. Ct. 366.rtf\n",
      "Read and wrote Wainscott Hamlet Ctr. Llc v. Town of E. Hampton, 2020 N.Y. Misc. LEXIS 17245.rtf\n",
      "Read and wrote Waiskesha Qualana Francois v. Ga. Gulf Lake Charles, LLC, 2007 U.S. Dist. LEXIS 102029.rtf\n",
      "Read and wrote Weirton Area Water Bd. & Weirton v. 3M Co., 2020 U.S. Dist. LEXIS 247880.rtf\n",
      "Read and wrote Weirton Area Water Bd. & Weirton v. 3M Co., 2020 U.S. Dist. LEXIS 247887.rtf\n",
      "Read and wrote Weirton Area Water Bd. v. 3M Co., 2020 U.S. Dist. LEXIS 237871.rtf\n",
      "Read and wrote Weirton Area Water Bd. v. 3M Co., 2020 U.S. Dist. LEXIS 238147.rtf\n",
      "Read and wrote Weirton Area Water Bd. v. 3M Co., 2020 U.S. Dist. LEXIS 244141.rtf\n",
      "Read and wrote Weirton Area Water Bd. v. 3M Co., 2020 U.S. Dist. LEXIS 247881.rtf\n",
      "Read and wrote Weirton Area Water Bd. v. 3M Co., 2020 U.S. Dist. LEXIS 247882.rtf\n",
      "Read and wrote Weirton Area Water Bd. v. 3M Co., 2020 U.S. Dist. LEXIS 247883.rtf\n",
      "Read and wrote Weirton Area Water Bd. v. 3M Co., 2020 U.S. Dist. LEXIS 247884.rtf\n",
      "Read and wrote Weirton Area Water Bd. v. 3M Co., 2020 U.S. Dist. LEXIS 247885.rtf\n",
      "Read and wrote Weirton Area Water Bd. v. 3M Co., 2020 U.S. Dist. LEXIS 247886.rtf\n",
      "Read and wrote Weirton Area Water Bd. v. 3M Co., 2020 U.S. Dist. LEXIS 247906.rtf\n",
      "Read and wrote Weirton Area Water Bd. v. 3M Co., 2020 U.S. Dist. LEXIS 247907.rtf\n",
      "Read and wrote Weirton Area Water Bd. v. 3M Co., 2020 U.S. Dist. LEXIS 247909.rtf\n",
      "Read and wrote Weirton Area Water Bd. v. 3M Co., 2020 U.S. Dist. LEXIS 247910.rtf\n",
      "Read and wrote Weirton Area Water Bd. v. 3M Co., 2020 U.S. Dist. LEXIS 247911.rtf\n",
      "Read and wrote Weirton Area Water Bd. v. 3M Co., 2020 U.S. Dist. LEXIS 247913.rtf\n",
      "Read and wrote Weirton Area Water Bd. v. 3M Co., 2020 U.S. Dist. LEXIS 248143.rtf\n",
      "Read and wrote Western Oil & Gas Assn. v. Monterey Bay Unified Air Pollution Control Dist., 49 Cal. 3d 408.rtf\n",
      "Read and wrote Westlake Vinyls, Inc. v. Goodrich Corp., 2007 U.S. Dist. LEXIS 65243.rtf\n",
      "Read and wrote Westlake Vinyls, Inc. v. Goodrich Corp., 2007 U.S. Dist. LEXIS 77706.rtf\n",
      "Read and wrote Westlake Vinyls, Inc. v. Goodrich Corp., 518 F. Supp. 2d 902.rtf\n",
      "Read and wrote Westlake Vinyls, Inc. v. Goodrich Corp., 518 F. Supp. 2d 918.rtf\n",
      "Read and wrote Westlake Vinyls, Inc. v. Goodrich Corp., 518 F. Supp. 2d 947.rtf\n",
      "Read and wrote White v. Urban, 2022 Pa. Super. Unpub. LEXIS 2766.rtf\n",
      "Read and wrote Williams v. Stirling, 2018 U.S. Dist. LEXIS 38709.rtf\n",
      "Read and wrote Winyah Rivers All. v. Active Energy Renewable Power, LLC, 2022 U.S. Dist. LEXIS 233235.rtf\n",
      "Read and wrote Wolverine World Wide v. Am. Ins. Co., 2020 U.S. Dist. LEXIS 249278.rtf\n",
      "Read and wrote Wolverine World Wide v. Am. Ins. Co., 2020 U.S. Dist. LEXIS 249485.rtf\n",
      "Read and wrote Wolverine World Wide v. Am. Ins. Co., 2021 U.S. Dist. LEXIS 199675.rtf\n",
      "Read and wrote Wolverine World Wide v. Am. Ins. Co., 2022 U.S. Dist. LEXIS 126291.rtf\n",
      "Read and wrote Wolverine World Wide, Inc. v. Am. Ins. Co., 2019 U.S. Dist. LEXIS 237314.rtf\n",
      "Read and wrote Wolverine World Wide, Inc. v. Am. Ins. Co., 2020 U.S. Dist. LEXIS 250853.rtf\n",
      "Read and wrote Wolverine World Wide, Inc. v. Am. Ins. Co., 2021 U.S. Dist. LEXIS 139761.rtf\n",
      "Read and wrote Wolverine World Wide, Inc. v. Am. Ins. Co., 2021 U.S. Dist. LEXIS 200978.rtf\n",
      "Read and wrote Wolverine World Wide, Inc. v. Am. Ins. Co., 2021 U.S. Dist. LEXIS 260877.rtf\n",
      "Read and wrote Y. L. S. v. E. I. D., 2018 Del. Fam. Ct. LEXIS 13.rtf\n",
      "Read and wrote Young v. Chemguard, Inc., 2021 U.S. Dist. LEXIS 98101.rtf\n",
      "Read and wrote Zimmerman v. 3M Co., 2019 U.S. Dist. LEXIS 196079.rtf\n",
      "Read and wrote Zimmerman v. 3M Co., 542 F. Supp. 3d 673.rtf\n",
      "Read and wrote Zivkovic v. Metro. Vacuum Cleaner Co., 2017 Cal. Super. LEXIS 2615.rtf\n",
      "Read and wrote Zivkovic v. Teknor Apex Co., 2017 Cal. Super. LEXIS 716.rtf\n"
     ]
    }
   ],
   "source": [
    "from striprtf.striprtf import rtf_to_text\n",
    "\n",
    "data_dir = \"./data/raw2\"\n",
    "save_dir = \"./data/backgrounds2\"\n",
    "\n",
    "fname = list(os.listdir(data_dir))[4]\n",
    "fpath = os.path.join(data_dir, fname)\n",
    "\n",
    "for fname in os.listdir(data_dir):\n",
    "    fpath = os.path.join(data_dir, fname)\n",
    "    # read the rtf\n",
    "    with open(fpath, 'r+', encoding='utf-8') as f:\n",
    "        content = f.read()\n",
    "        text = rtf_to_text(content)\n",
    "\n",
    "    # save to txt\n",
    "    start_idx = text.lower().find(\"core terms\\n\\n\") + 12\n",
    "    end_idx = text.find(\"conclusion\")\n",
    "    save_path = os.path.join(save_dir, fname[:-4]+\".txt\")\n",
    "    with open(save_path, 'w+', encoding='utf-8') as f_write:\n",
    "        f_write.write(text[start_idx:end_idx])\n",
    "\n",
    "    print(f\"Read and wrote {fname}\")"
   ],
   "metadata": {
    "collapsed": false,
    "ExecuteTime": {
     "end_time": "2023-08-03T21:51:40.799603100Z",
     "start_time": "2023-08-03T21:50:35.551215400Z"
    }
   }
  },
  {
   "cell_type": "code",
   "execution_count": 4,
   "outputs": [],
   "source": [
    "import re\n",
    "import string\n",
    "\n",
    "for fname in os.listdir(save_dir):\n",
    "    fpath = os.path.join(save_dir, fname)\n",
    "    # read the txt\n",
    "    with open(fpath, 'r+', encoding='utf-8') as f:\n",
    "        content = f.read()\n",
    "\n",
    "    # remove all non-alphanumeric\n",
    "    alnum_s = ''.join(filter(lambda x: str.isalnum(x) or x==\" \" or x==\"\\n\" or x in string.punctuation,\n",
    "                             content))\n",
    "    # remove all square brakets\n",
    "    cleaned_s = re.sub(\"\\[\\s*.*\\s*\\]\\s*\", \"\",alnum_s)\n",
    "\n",
    "    if \"background\" in cleaned_s.lower():\n",
    "        idx = cleaned_s.lower().find(\"background\")\n",
    "        cleaned_s = cleaned_s[idx+len(\"background\")+1:]\n",
    "\n",
    "    # write back in\n",
    "    save_fpath = os.path.join('./data/cleaned2', fname)\n",
    "    with open(save_fpath, 'w+', encoding='utf-8') as f:\n",
    "        f.write(cleaned_s)"
   ],
   "metadata": {
    "collapsed": false,
    "ExecuteTime": {
     "end_time": "2023-08-03T21:55:33.220795700Z",
     "start_time": "2023-08-03T21:55:32.311334800Z"
    }
   }
  },
  {
   "cell_type": "code",
   "execution_count": 13,
   "outputs": [
    {
     "name": "stderr",
     "output_type": "stream",
     "text": [
      "[nltk_data] Downloading package averaged_perceptron_tagger to\n",
      "[nltk_data]     C:\\Users\\KAI\\AppData\\Roaming\\nltk_data...\n",
      "[nltk_data]   Unzipping taggers\\averaged_perceptron_tagger.zip.\n"
     ]
    },
    {
     "name": "stdout",
     "output_type": "stream",
     "text": [
      "number of documents:39\n"
     ]
    }
   ],
   "source": [
    "def load_docs(directory:str)-> List:\n",
    "  \"\"\"\n",
    "  Creates a data loader object that generates documents from [directory]\n",
    "  :@param directory: dir to load documents from. Must be a valid dir\n",
    "  \"\"\"\n",
    "  # check for file existance\n",
    "  assert os.path.isdir(directory), f\"{directory} not found.\"\n",
    "\n",
    "  # create a generator object to load documents\n",
    "  loader = DirectoryLoader(directory)\n",
    "  documents = loader.load()\n",
    "  return documents\n",
    "\n",
    "documents = load_docs('./data/cleaned')\n",
    "print(f\"number of documents:{len(documents)}\")"
   ],
   "metadata": {
    "collapsed": false,
    "ExecuteTime": {
     "end_time": "2023-08-03T18:17:16.219711400Z",
     "start_time": "2023-08-03T18:17:12.925693400Z"
    }
   }
  },
  {
   "cell_type": "code",
   "execution_count": 14,
   "outputs": [
    {
     "name": "stderr",
     "output_type": "stream",
     "text": [
      "2023-08-03 14:17:18.388 WARNING langchain.text_splitter: Created a chunk of size 203, which is longer than the specified 200\n",
      "2023-08-03 14:17:18.389 WARNING langchain.text_splitter: Created a chunk of size 212, which is longer than the specified 200\n",
      "2023-08-03 14:17:18.390 WARNING langchain.text_splitter: Created a chunk of size 245, which is longer than the specified 200\n",
      "2023-08-03 14:17:18.390 WARNING langchain.text_splitter: Created a chunk of size 324, which is longer than the specified 200\n",
      "2023-08-03 14:17:18.461 WARNING langchain.text_splitter: Created a chunk of size 234, which is longer than the specified 200\n",
      "2023-08-03 14:17:18.462 WARNING langchain.text_splitter: Created a chunk of size 581, which is longer than the specified 200\n",
      "2023-08-03 14:17:18.462 WARNING langchain.text_splitter: Created a chunk of size 407, which is longer than the specified 200\n",
      "2023-08-03 14:17:18.463 WARNING langchain.text_splitter: Created a chunk of size 253, which is longer than the specified 200\n"
     ]
    },
    {
     "name": "stdout",
     "output_type": "stream",
     "text": [
      "Loaded SpacyTextSplitter\n"
     ]
    },
    {
     "name": "stderr",
     "output_type": "stream",
     "text": [
      "2023-08-03 14:17:18.550 WARNING langchain.text_splitter: Created a chunk of size 346, which is longer than the specified 200\n",
      "2023-08-03 14:17:18.551 WARNING langchain.text_splitter: Created a chunk of size 230, which is longer than the specified 200\n",
      "2023-08-03 14:17:18.552 WARNING langchain.text_splitter: Created a chunk of size 217, which is longer than the specified 200\n",
      "2023-08-03 14:17:18.552 WARNING langchain.text_splitter: Created a chunk of size 265, which is longer than the specified 200\n",
      "2023-08-03 14:17:18.607 WARNING langchain.text_splitter: Created a chunk of size 247, which is longer than the specified 200\n",
      "2023-08-03 14:17:18.646 WARNING langchain.text_splitter: Created a chunk of size 228, which is longer than the specified 200\n",
      "2023-08-03 14:17:18.804 WARNING langchain.text_splitter: Created a chunk of size 256, which is longer than the specified 200\n",
      "2023-08-03 14:17:18.805 WARNING langchain.text_splitter: Created a chunk of size 210, which is longer than the specified 200\n",
      "2023-08-03 14:17:18.806 WARNING langchain.text_splitter: Created a chunk of size 368, which is longer than the specified 200\n",
      "2023-08-03 14:17:18.806 WARNING langchain.text_splitter: Created a chunk of size 320, which is longer than the specified 200\n",
      "2023-08-03 14:17:18.807 WARNING langchain.text_splitter: Created a chunk of size 267, which is longer than the specified 200\n",
      "2023-08-03 14:17:18.807 WARNING langchain.text_splitter: Created a chunk of size 302, which is longer than the specified 200\n",
      "2023-08-03 14:17:18.808 WARNING langchain.text_splitter: Created a chunk of size 321, which is longer than the specified 200\n",
      "2023-08-03 14:17:18.808 WARNING langchain.text_splitter: Created a chunk of size 301, which is longer than the specified 200\n",
      "2023-08-03 14:17:18.901 WARNING langchain.text_splitter: Created a chunk of size 236, which is longer than the specified 200\n",
      "2023-08-03 14:17:18.901 WARNING langchain.text_splitter: Created a chunk of size 217, which is longer than the specified 200\n",
      "2023-08-03 14:17:18.935 WARNING langchain.text_splitter: Created a chunk of size 272, which is longer than the specified 200\n",
      "2023-08-03 14:17:18.936 WARNING langchain.text_splitter: Created a chunk of size 241, which is longer than the specified 200\n",
      "2023-08-03 14:17:19.021 WARNING langchain.text_splitter: Created a chunk of size 232, which is longer than the specified 200\n",
      "2023-08-03 14:17:19.021 WARNING langchain.text_splitter: Created a chunk of size 278, which is longer than the specified 200\n",
      "2023-08-03 14:17:19.022 WARNING langchain.text_splitter: Created a chunk of size 396, which is longer than the specified 200\n",
      "2023-08-03 14:17:19.024 WARNING langchain.text_splitter: Created a chunk of size 378, which is longer than the specified 200\n",
      "2023-08-03 14:17:19.024 WARNING langchain.text_splitter: Created a chunk of size 503, which is longer than the specified 200\n",
      "2023-08-03 14:17:19.078 WARNING langchain.text_splitter: Created a chunk of size 233, which is longer than the specified 200\n",
      "2023-08-03 14:17:19.079 WARNING langchain.text_splitter: Created a chunk of size 278, which is longer than the specified 200\n",
      "2023-08-03 14:17:19.080 WARNING langchain.text_splitter: Created a chunk of size 396, which is longer than the specified 200\n",
      "2023-08-03 14:17:19.080 WARNING langchain.text_splitter: Created a chunk of size 377, which is longer than the specified 200\n",
      "2023-08-03 14:17:19.081 WARNING langchain.text_splitter: Created a chunk of size 504, which is longer than the specified 200\n",
      "2023-08-03 14:17:19.136 WARNING langchain.text_splitter: Created a chunk of size 389, which is longer than the specified 200\n",
      "2023-08-03 14:17:19.137 WARNING langchain.text_splitter: Created a chunk of size 412, which is longer than the specified 200\n",
      "2023-08-03 14:17:19.138 WARNING langchain.text_splitter: Created a chunk of size 206, which is longer than the specified 200\n",
      "2023-08-03 14:17:19.138 WARNING langchain.text_splitter: Created a chunk of size 211, which is longer than the specified 200\n",
      "2023-08-03 14:17:19.139 WARNING langchain.text_splitter: Created a chunk of size 418, which is longer than the specified 200\n",
      "2023-08-03 14:17:19.140 WARNING langchain.text_splitter: Created a chunk of size 272, which is longer than the specified 200\n",
      "2023-08-03 14:17:19.187 WARNING langchain.text_splitter: Created a chunk of size 390, which is longer than the specified 200\n",
      "2023-08-03 14:17:19.188 WARNING langchain.text_splitter: Created a chunk of size 413, which is longer than the specified 200\n",
      "2023-08-03 14:17:19.188 WARNING langchain.text_splitter: Created a chunk of size 206, which is longer than the specified 200\n",
      "2023-08-03 14:17:19.189 WARNING langchain.text_splitter: Created a chunk of size 211, which is longer than the specified 200\n",
      "2023-08-03 14:17:19.190 WARNING langchain.text_splitter: Created a chunk of size 419, which is longer than the specified 200\n",
      "2023-08-03 14:17:19.190 WARNING langchain.text_splitter: Created a chunk of size 271, which is longer than the specified 200\n",
      "2023-08-03 14:17:19.303 WARNING langchain.text_splitter: Created a chunk of size 271, which is longer than the specified 200\n",
      "2023-08-03 14:17:19.304 WARNING langchain.text_splitter: Created a chunk of size 301, which is longer than the specified 200\n",
      "2023-08-03 14:17:19.305 WARNING langchain.text_splitter: Created a chunk of size 240, which is longer than the specified 200\n",
      "2023-08-03 14:17:19.306 WARNING langchain.text_splitter: Created a chunk of size 362, which is longer than the specified 200\n",
      "2023-08-03 14:17:19.308 WARNING langchain.text_splitter: Created a chunk of size 253, which is longer than the specified 200\n",
      "2023-08-03 14:17:19.308 WARNING langchain.text_splitter: Created a chunk of size 328, which is longer than the specified 200\n",
      "2023-08-03 14:17:19.308 WARNING langchain.text_splitter: Created a chunk of size 213, which is longer than the specified 200\n",
      "2023-08-03 14:17:19.308 WARNING langchain.text_splitter: Created a chunk of size 293, which is longer than the specified 200\n",
      "2023-08-03 14:17:19.309 WARNING langchain.text_splitter: Created a chunk of size 367, which is longer than the specified 200\n",
      "2023-08-03 14:17:19.309 WARNING langchain.text_splitter: Created a chunk of size 214, which is longer than the specified 200\n",
      "2023-08-03 14:17:19.578 WARNING langchain.text_splitter: Created a chunk of size 389, which is longer than the specified 200\n",
      "2023-08-03 14:17:19.579 WARNING langchain.text_splitter: Created a chunk of size 709, which is longer than the specified 200\n",
      "2023-08-03 14:17:19.579 WARNING langchain.text_splitter: Created a chunk of size 419, which is longer than the specified 200\n",
      "2023-08-03 14:17:19.580 WARNING langchain.text_splitter: Created a chunk of size 203, which is longer than the specified 200\n",
      "2023-08-03 14:17:19.580 WARNING langchain.text_splitter: Created a chunk of size 232, which is longer than the specified 200\n",
      "2023-08-03 14:17:19.581 WARNING langchain.text_splitter: Created a chunk of size 211, which is longer than the specified 200\n",
      "2023-08-03 14:17:19.582 WARNING langchain.text_splitter: Created a chunk of size 314, which is longer than the specified 200\n",
      "2023-08-03 14:17:19.582 WARNING langchain.text_splitter: Created a chunk of size 266, which is longer than the specified 200\n",
      "2023-08-03 14:17:19.583 WARNING langchain.text_splitter: Created a chunk of size 247, which is longer than the specified 200\n",
      "2023-08-03 14:17:19.583 WARNING langchain.text_splitter: Created a chunk of size 241, which is longer than the specified 200\n",
      "2023-08-03 14:17:19.584 WARNING langchain.text_splitter: Created a chunk of size 254, which is longer than the specified 200\n",
      "2023-08-03 14:17:19.584 WARNING langchain.text_splitter: Created a chunk of size 299, which is longer than the specified 200\n",
      "2023-08-03 14:17:19.584 WARNING langchain.text_splitter: Created a chunk of size 232, which is longer than the specified 200\n",
      "2023-08-03 14:17:19.585 WARNING langchain.text_splitter: Created a chunk of size 359, which is longer than the specified 200\n",
      "2023-08-03 14:17:19.585 WARNING langchain.text_splitter: Created a chunk of size 235, which is longer than the specified 200\n",
      "2023-08-03 14:17:19.586 WARNING langchain.text_splitter: Created a chunk of size 232, which is longer than the specified 200\n",
      "2023-08-03 14:17:19.587 WARNING langchain.text_splitter: Created a chunk of size 307, which is longer than the specified 200\n",
      "2023-08-03 14:17:19.689 WARNING langchain.text_splitter: Created a chunk of size 241, which is longer than the specified 200\n",
      "2023-08-03 14:17:19.690 WARNING langchain.text_splitter: Created a chunk of size 240, which is longer than the specified 200\n",
      "2023-08-03 14:17:19.691 WARNING langchain.text_splitter: Created a chunk of size 274, which is longer than the specified 200\n",
      "2023-08-03 14:17:19.692 WARNING langchain.text_splitter: Created a chunk of size 303, which is longer than the specified 200\n",
      "2023-08-03 14:17:19.752 WARNING langchain.text_splitter: Created a chunk of size 202, which is longer than the specified 200\n",
      "2023-08-03 14:17:19.753 WARNING langchain.text_splitter: Created a chunk of size 206, which is longer than the specified 200\n",
      "2023-08-03 14:17:19.754 WARNING langchain.text_splitter: Created a chunk of size 218, which is longer than the specified 200\n",
      "2023-08-03 14:17:19.755 WARNING langchain.text_splitter: Created a chunk of size 344, which is longer than the specified 200\n",
      "2023-08-03 14:17:19.796 WARNING langchain.text_splitter: Created a chunk of size 267, which is longer than the specified 200\n",
      "2023-08-03 14:17:19.796 WARNING langchain.text_splitter: Created a chunk of size 286, which is longer than the specified 200\n",
      "2023-08-03 14:17:19.797 WARNING langchain.text_splitter: Created a chunk of size 209, which is longer than the specified 200\n",
      "2023-08-03 14:17:19.797 WARNING langchain.text_splitter: Created a chunk of size 220, which is longer than the specified 200\n",
      "2023-08-03 14:17:19.798 WARNING langchain.text_splitter: Created a chunk of size 238, which is longer than the specified 200\n",
      "2023-08-03 14:17:19.909 WARNING langchain.text_splitter: Created a chunk of size 202, which is longer than the specified 200\n",
      "2023-08-03 14:17:19.909 WARNING langchain.text_splitter: Created a chunk of size 271, which is longer than the specified 200\n",
      "2023-08-03 14:17:19.910 WARNING langchain.text_splitter: Created a chunk of size 390, which is longer than the specified 200\n",
      "2023-08-03 14:17:19.911 WARNING langchain.text_splitter: Created a chunk of size 211, which is longer than the specified 200\n",
      "2023-08-03 14:17:19.911 WARNING langchain.text_splitter: Created a chunk of size 271, which is longer than the specified 200\n",
      "2023-08-03 14:17:19.912 WARNING langchain.text_splitter: Created a chunk of size 236, which is longer than the specified 200\n",
      "2023-08-03 14:17:19.963 WARNING langchain.text_splitter: Created a chunk of size 750, which is longer than the specified 200\n",
      "2023-08-03 14:17:19.992 WARNING langchain.text_splitter: Created a chunk of size 242, which is longer than the specified 200\n",
      "2023-08-03 14:17:19.993 WARNING langchain.text_splitter: Created a chunk of size 238, which is longer than the specified 200\n",
      "2023-08-03 14:17:20.080 WARNING langchain.text_splitter: Created a chunk of size 205, which is longer than the specified 200\n",
      "2023-08-03 14:17:20.080 WARNING langchain.text_splitter: Created a chunk of size 219, which is longer than the specified 200\n",
      "2023-08-03 14:17:20.081 WARNING langchain.text_splitter: Created a chunk of size 288, which is longer than the specified 200\n",
      "2023-08-03 14:17:20.082 WARNING langchain.text_splitter: Created a chunk of size 214, which is longer than the specified 200\n",
      "2023-08-03 14:17:20.082 WARNING langchain.text_splitter: Created a chunk of size 341, which is longer than the specified 200\n",
      "2023-08-03 14:17:20.164 WARNING langchain.text_splitter: Created a chunk of size 202, which is longer than the specified 200\n",
      "2023-08-03 14:17:20.165 WARNING langchain.text_splitter: Created a chunk of size 203, which is longer than the specified 200\n",
      "2023-08-03 14:17:20.166 WARNING langchain.text_splitter: Created a chunk of size 228, which is longer than the specified 200\n",
      "2023-08-03 14:17:20.166 WARNING langchain.text_splitter: Created a chunk of size 215, which is longer than the specified 200\n",
      "2023-08-03 14:17:20.167 WARNING langchain.text_splitter: Created a chunk of size 276, which is longer than the specified 200\n",
      "2023-08-03 14:17:20.167 WARNING langchain.text_splitter: Created a chunk of size 211, which is longer than the specified 200\n",
      "2023-08-03 14:17:20.168 WARNING langchain.text_splitter: Created a chunk of size 326, which is longer than the specified 200\n",
      "2023-08-03 14:17:20.276 WARNING langchain.text_splitter: Created a chunk of size 262, which is longer than the specified 200\n",
      "2023-08-03 14:17:20.277 WARNING langchain.text_splitter: Created a chunk of size 207, which is longer than the specified 200\n",
      "2023-08-03 14:17:20.277 WARNING langchain.text_splitter: Created a chunk of size 274, which is longer than the specified 200\n",
      "2023-08-03 14:17:20.278 WARNING langchain.text_splitter: Created a chunk of size 201, which is longer than the specified 200\n",
      "2023-08-03 14:17:20.279 WARNING langchain.text_splitter: Created a chunk of size 213, which is longer than the specified 200\n",
      "2023-08-03 14:17:20.279 WARNING langchain.text_splitter: Created a chunk of size 359, which is longer than the specified 200\n",
      "2023-08-03 14:17:20.280 WARNING langchain.text_splitter: Created a chunk of size 232, which is longer than the specified 200\n",
      "2023-08-03 14:17:20.280 WARNING langchain.text_splitter: Created a chunk of size 236, which is longer than the specified 200\n",
      "2023-08-03 14:17:20.280 WARNING langchain.text_splitter: Created a chunk of size 277, which is longer than the specified 200\n",
      "2023-08-03 14:17:20.327 WARNING langchain.text_splitter: Created a chunk of size 233, which is longer than the specified 200\n",
      "2023-08-03 14:17:20.328 WARNING langchain.text_splitter: Created a chunk of size 243, which is longer than the specified 200\n",
      "2023-08-03 14:17:20.328 WARNING langchain.text_splitter: Created a chunk of size 243, which is longer than the specified 200\n",
      "2023-08-03 14:17:20.361 WARNING langchain.text_splitter: Created a chunk of size 211, which is longer than the specified 200\n",
      "2023-08-03 14:17:20.362 WARNING langchain.text_splitter: Created a chunk of size 223, which is longer than the specified 200\n",
      "2023-08-03 14:17:20.363 WARNING langchain.text_splitter: Created a chunk of size 209, which is longer than the specified 200\n",
      "2023-08-03 14:17:20.403 WARNING langchain.text_splitter: Created a chunk of size 219, which is longer than the specified 200\n",
      "2023-08-03 14:17:20.404 WARNING langchain.text_splitter: Created a chunk of size 256, which is longer than the specified 200\n",
      "2023-08-03 14:17:20.404 WARNING langchain.text_splitter: Created a chunk of size 313, which is longer than the specified 200\n",
      "2023-08-03 14:17:20.525 WARNING langchain.text_splitter: Created a chunk of size 283, which is longer than the specified 200\n",
      "2023-08-03 14:17:20.526 WARNING langchain.text_splitter: Created a chunk of size 232, which is longer than the specified 200\n",
      "2023-08-03 14:17:20.527 WARNING langchain.text_splitter: Created a chunk of size 204, which is longer than the specified 200\n",
      "2023-08-03 14:17:20.528 WARNING langchain.text_splitter: Created a chunk of size 240, which is longer than the specified 200\n",
      "2023-08-03 14:17:20.591 WARNING langchain.text_splitter: Created a chunk of size 323, which is longer than the specified 200\n",
      "2023-08-03 14:17:20.592 WARNING langchain.text_splitter: Created a chunk of size 287, which is longer than the specified 200\n",
      "2023-08-03 14:17:20.593 WARNING langchain.text_splitter: Created a chunk of size 206, which is longer than the specified 200\n",
      "2023-08-03 14:17:20.594 WARNING langchain.text_splitter: Created a chunk of size 249, which is longer than the specified 200\n",
      "2023-08-03 14:17:20.698 WARNING langchain.text_splitter: Created a chunk of size 326, which is longer than the specified 200\n",
      "2023-08-03 14:17:20.699 WARNING langchain.text_splitter: Created a chunk of size 319, which is longer than the specified 200\n",
      "2023-08-03 14:17:20.699 WARNING langchain.text_splitter: Created a chunk of size 208, which is longer than the specified 200\n",
      "2023-08-03 14:17:20.700 WARNING langchain.text_splitter: Created a chunk of size 267, which is longer than the specified 200\n",
      "2023-08-03 14:17:20.700 WARNING langchain.text_splitter: Created a chunk of size 270, which is longer than the specified 200\n",
      "2023-08-03 14:17:20.700 WARNING langchain.text_splitter: Created a chunk of size 212, which is longer than the specified 200\n",
      "2023-08-03 14:17:20.701 WARNING langchain.text_splitter: Created a chunk of size 824, which is longer than the specified 200\n",
      "2023-08-03 14:17:20.912 WARNING langchain.text_splitter: Created a chunk of size 230, which is longer than the specified 200\n",
      "2023-08-03 14:17:20.913 WARNING langchain.text_splitter: Created a chunk of size 215, which is longer than the specified 200\n",
      "2023-08-03 14:17:20.914 WARNING langchain.text_splitter: Created a chunk of size 209, which is longer than the specified 200\n",
      "2023-08-03 14:17:20.914 WARNING langchain.text_splitter: Created a chunk of size 241, which is longer than the specified 200\n",
      "2023-08-03 14:17:20.915 WARNING langchain.text_splitter: Created a chunk of size 211, which is longer than the specified 200\n",
      "2023-08-03 14:17:20.915 WARNING langchain.text_splitter: Created a chunk of size 205, which is longer than the specified 200\n",
      "2023-08-03 14:17:20.916 WARNING langchain.text_splitter: Created a chunk of size 242, which is longer than the specified 200\n",
      "2023-08-03 14:17:20.916 WARNING langchain.text_splitter: Created a chunk of size 229, which is longer than the specified 200\n",
      "2023-08-03 14:17:20.917 WARNING langchain.text_splitter: Created a chunk of size 254, which is longer than the specified 200\n",
      "2023-08-03 14:17:20.917 WARNING langchain.text_splitter: Created a chunk of size 268, which is longer than the specified 200\n",
      "2023-08-03 14:17:20.918 WARNING langchain.text_splitter: Created a chunk of size 257, which is longer than the specified 200\n",
      "2023-08-03 14:17:20.918 WARNING langchain.text_splitter: Created a chunk of size 242, which is longer than the specified 200\n",
      "2023-08-03 14:17:20.919 WARNING langchain.text_splitter: Created a chunk of size 303, which is longer than the specified 200\n",
      "2023-08-03 14:17:20.919 WARNING langchain.text_splitter: Created a chunk of size 207, which is longer than the specified 200\n",
      "2023-08-03 14:17:21.062 WARNING langchain.text_splitter: Created a chunk of size 201, which is longer than the specified 200\n",
      "2023-08-03 14:17:21.063 WARNING langchain.text_splitter: Created a chunk of size 228, which is longer than the specified 200\n",
      "2023-08-03 14:17:21.064 WARNING langchain.text_splitter: Created a chunk of size 212, which is longer than the specified 200\n",
      "2023-08-03 14:17:21.190 WARNING langchain.text_splitter: Created a chunk of size 340, which is longer than the specified 200\n",
      "2023-08-03 14:17:21.191 WARNING langchain.text_splitter: Created a chunk of size 271, which is longer than the specified 200\n",
      "2023-08-03 14:17:21.192 WARNING langchain.text_splitter: Created a chunk of size 231, which is longer than the specified 200\n",
      "2023-08-03 14:17:21.193 WARNING langchain.text_splitter: Created a chunk of size 217, which is longer than the specified 200\n",
      "2023-08-03 14:17:21.193 WARNING langchain.text_splitter: Created a chunk of size 295, which is longer than the specified 200\n",
      "2023-08-03 14:17:21.194 WARNING langchain.text_splitter: Created a chunk of size 240, which is longer than the specified 200\n",
      "2023-08-03 14:17:21.194 WARNING langchain.text_splitter: Created a chunk of size 378, which is longer than the specified 200\n",
      "2023-08-03 14:17:21.194 WARNING langchain.text_splitter: Created a chunk of size 299, which is longer than the specified 200\n",
      "2023-08-03 14:17:21.250 WARNING langchain.text_splitter: Created a chunk of size 223, which is longer than the specified 200\n",
      "2023-08-03 14:17:21.252 WARNING langchain.text_splitter: Created a chunk of size 209, which is longer than the specified 200\n",
      "2023-08-03 14:17:21.304 WARNING langchain.text_splitter: Created a chunk of size 277, which is longer than the specified 200\n",
      "2023-08-03 14:17:21.305 WARNING langchain.text_splitter: Created a chunk of size 208, which is longer than the specified 200\n",
      "2023-08-03 14:17:21.305 WARNING langchain.text_splitter: Created a chunk of size 217, which is longer than the specified 200\n",
      "2023-08-03 14:17:21.306 WARNING langchain.text_splitter: Created a chunk of size 265, which is longer than the specified 200\n",
      "2023-08-03 14:17:21.335 WARNING langchain.text_splitter: Created a chunk of size 315, which is longer than the specified 200\n",
      "2023-08-03 14:17:21.336 WARNING langchain.text_splitter: Created a chunk of size 202, which is longer than the specified 200\n",
      "2023-08-03 14:17:21.337 WARNING langchain.text_splitter: Created a chunk of size 312, which is longer than the specified 200\n",
      "2023-08-03 14:17:21.526 WARNING langchain.text_splitter: Created a chunk of size 321, which is longer than the specified 200\n",
      "2023-08-03 14:17:21.527 WARNING langchain.text_splitter: Created a chunk of size 302, which is longer than the specified 200\n",
      "2023-08-03 14:17:21.527 WARNING langchain.text_splitter: Created a chunk of size 390, which is longer than the specified 200\n",
      "2023-08-03 14:17:21.528 WARNING langchain.text_splitter: Created a chunk of size 232, which is longer than the specified 200\n",
      "2023-08-03 14:17:21.528 WARNING langchain.text_splitter: Created a chunk of size 279, which is longer than the specified 200\n",
      "2023-08-03 14:17:21.529 WARNING langchain.text_splitter: Created a chunk of size 214, which is longer than the specified 200\n",
      "2023-08-03 14:17:21.529 WARNING langchain.text_splitter: Created a chunk of size 399, which is longer than the specified 200\n",
      "2023-08-03 14:17:21.530 WARNING langchain.text_splitter: Created a chunk of size 227, which is longer than the specified 200\n",
      "2023-08-03 14:17:21.531 WARNING langchain.text_splitter: Created a chunk of size 441, which is longer than the specified 200\n",
      "2023-08-03 14:17:21.531 WARNING langchain.text_splitter: Created a chunk of size 440, which is longer than the specified 200\n",
      "2023-08-03 14:17:21.532 WARNING langchain.text_splitter: Created a chunk of size 245, which is longer than the specified 200\n",
      "2023-08-03 14:17:21.532 WARNING langchain.text_splitter: Created a chunk of size 369, which is longer than the specified 200\n",
      "2023-08-03 14:17:21.532 WARNING langchain.text_splitter: Created a chunk of size 368, which is longer than the specified 200\n",
      "2023-08-03 14:17:21.533 WARNING langchain.text_splitter: Created a chunk of size 260, which is longer than the specified 200\n",
      "2023-08-03 14:17:21.533 WARNING langchain.text_splitter: Created a chunk of size 291, which is longer than the specified 200\n",
      "2023-08-03 14:17:21.534 WARNING langchain.text_splitter: Created a chunk of size 237, which is longer than the specified 200\n",
      "2023-08-03 14:17:21.534 WARNING langchain.text_splitter: Created a chunk of size 232, which is longer than the specified 200\n",
      "2023-08-03 14:17:21.535 WARNING langchain.text_splitter: Created a chunk of size 349, which is longer than the specified 200\n",
      "2023-08-03 14:17:21.594 WARNING langchain.text_splitter: Created a chunk of size 216, which is longer than the specified 200\n",
      "2023-08-03 14:17:21.595 WARNING langchain.text_splitter: Created a chunk of size 225, which is longer than the specified 200\n",
      "2023-08-03 14:17:21.596 WARNING langchain.text_splitter: Created a chunk of size 336, which is longer than the specified 200\n",
      "2023-08-03 14:17:21.596 WARNING langchain.text_splitter: Created a chunk of size 333, which is longer than the specified 200\n",
      "2023-08-03 14:17:21.597 WARNING langchain.text_splitter: Created a chunk of size 257, which is longer than the specified 200\n",
      "2023-08-03 14:17:21.801 WARNING langchain.text_splitter: Created a chunk of size 333, which is longer than the specified 200\n",
      "2023-08-03 14:17:21.802 WARNING langchain.text_splitter: Created a chunk of size 271, which is longer than the specified 200\n",
      "2023-08-03 14:17:21.803 WARNING langchain.text_splitter: Created a chunk of size 240, which is longer than the specified 200\n",
      "2023-08-03 14:17:21.804 WARNING langchain.text_splitter: Created a chunk of size 207, which is longer than the specified 200\n",
      "2023-08-03 14:17:21.804 WARNING langchain.text_splitter: Created a chunk of size 262, which is longer than the specified 200\n",
      "2023-08-03 14:17:21.805 WARNING langchain.text_splitter: Created a chunk of size 312, which is longer than the specified 200\n",
      "2023-08-03 14:17:21.805 WARNING langchain.text_splitter: Created a chunk of size 244, which is longer than the specified 200\n",
      "2023-08-03 14:17:21.806 WARNING langchain.text_splitter: Created a chunk of size 206, which is longer than the specified 200\n",
      "2023-08-03 14:17:21.807 WARNING langchain.text_splitter: Created a chunk of size 259, which is longer than the specified 200\n",
      "2023-08-03 14:17:21.807 WARNING langchain.text_splitter: Created a chunk of size 213, which is longer than the specified 200\n"
     ]
    },
    {
     "name": "stdout",
     "output_type": "stream",
     "text": [
      "Number of chunks: 916\n"
     ]
    }
   ],
   "source": [
    "class UnknownSplitterType(Exception):\n",
    "  pass\n",
    "\n",
    "def split_docs(documents:List,chunk_size:int=500,chunk_overlap:int=100,\n",
    "               splitter_type:str='RecurChar')->List:\n",
    "  \"\"\"\n",
    "  Splits the documents into chunks of [chunk_size] with an overlap of\n",
    "  [chunk_overlap] between adjacent chunks. Splitting regime is base on\n",
    "  [splitter_type].\n",
    "  :@param splitter_type: one of 'RecurChar' (RecursiveCharacterTextSplitter),\n",
    "  'Spacy' (SpacyTextSplitter), 'TikToken' (TokenTextSplitter),\n",
    "  'GPT2TokenizerFast' (uses Hugging Face's GPT2TokenizerFast)\n",
    "  \"\"\"\n",
    "  match splitter_type:\n",
    "    case 'RecurChar':\n",
    "          text_splitter = RecursiveCharacterTextSplitter(chunk_size=chunk_size,\n",
    "                                                         chunk_overlap=chunk_overlap)\n",
    "          print(f\"Loaded RecursiveChatacterTextSplitter\")\n",
    "\n",
    "    case 'Spacy':\n",
    "          text_splitter = SpacyTextSplitter(chunk_size=chunk_size,\n",
    "                                            chunk_overlap=chunk_overlap)\n",
    "          print(f\"Loaded SpacyTextSplitter\")\n",
    "\n",
    "    case 'TikToken':\n",
    "          text_splitter = TokenTextSplitter(chunk_size=chunk_size,\n",
    "                                            chunk_overlap=chunk_overlap)\n",
    "          print(f\"Loaded TikToken\")\n",
    "\n",
    "    case 'GPT2TokenizerFast':\n",
    "          tokenizer = GPT2TokenizerFast.from_pretrained(\"gpt2\")\n",
    "          text_splitter = \\\n",
    "          CharacterTextSplitter.from_huggingface_tokenizer(tokenizer,\n",
    "                                                           chunk_size=chunk_size,\n",
    "                                                           chunk_overlap=chunk_overlap)\n",
    "          print(f\"Loaded GPT2TokenizerFast\")\n",
    "\n",
    "    case _:\n",
    "      raise UnknownSplitterType(\"needs to be one of {'RecurChar', 'Spacy','TikToken','GPT2TokenizerFast'}\")\n",
    "\n",
    "  docs = text_splitter.split_documents(documents)\n",
    "  return docs\n",
    "\n",
    "\n",
    "docs = split_docs(documents,chunk_size=200, chunk_overlap=100,splitter_type='Spacy')\n",
    "print(f\"Number of chunks: {len(docs)}\")"
   ],
   "metadata": {
    "collapsed": false,
    "ExecuteTime": {
     "end_time": "2023-08-03T18:17:21.859978600Z",
     "start_time": "2023-08-03T18:17:17.850965700Z"
    }
   }
  },
  {
   "cell_type": "code",
   "execution_count": 15,
   "outputs": [
    {
     "name": "stderr",
     "output_type": "stream",
     "text": [
      "2023-08-03 14:17:28.227 INFO    sentence_transformers.SentenceTransformer: Load pretrained SentenceTransformer: all-MiniLM-L6-v2\n"
     ]
    },
    {
     "data": {
      "text/plain": "Downloading (…)e9125/.gitattributes:   0%|          | 0.00/1.18k [00:00<?, ?B/s]",
      "application/vnd.jupyter.widget-view+json": {
       "version_major": 2,
       "version_minor": 0,
       "model_id": "4e12ff0a46634a9383ed6354bfd1cdf1"
      }
     },
     "metadata": {},
     "output_type": "display_data"
    },
    {
     "data": {
      "text/plain": "Downloading (…)_Pooling/config.json:   0%|          | 0.00/190 [00:00<?, ?B/s]",
      "application/vnd.jupyter.widget-view+json": {
       "version_major": 2,
       "version_minor": 0,
       "model_id": "5831472f839a4de5a9d9fa880633da25"
      }
     },
     "metadata": {},
     "output_type": "display_data"
    },
    {
     "data": {
      "text/plain": "Downloading (…)7e55de9125/README.md:   0%|          | 0.00/10.6k [00:00<?, ?B/s]",
      "application/vnd.jupyter.widget-view+json": {
       "version_major": 2,
       "version_minor": 0,
       "model_id": "d7021900e9cf450aab78b266e82ad386"
      }
     },
     "metadata": {},
     "output_type": "display_data"
    },
    {
     "data": {
      "text/plain": "Downloading (…)55de9125/config.json:   0%|          | 0.00/612 [00:00<?, ?B/s]",
      "application/vnd.jupyter.widget-view+json": {
       "version_major": 2,
       "version_minor": 0,
       "model_id": "b084f67dedd94048939dcaae62c4246a"
      }
     },
     "metadata": {},
     "output_type": "display_data"
    },
    {
     "data": {
      "text/plain": "Downloading (…)ce_transformers.json:   0%|          | 0.00/116 [00:00<?, ?B/s]",
      "application/vnd.jupyter.widget-view+json": {
       "version_major": 2,
       "version_minor": 0,
       "model_id": "3dc90cbf02ac4f4990c9608f0e52df27"
      }
     },
     "metadata": {},
     "output_type": "display_data"
    },
    {
     "data": {
      "text/plain": "Downloading (…)125/data_config.json:   0%|          | 0.00/39.3k [00:00<?, ?B/s]",
      "application/vnd.jupyter.widget-view+json": {
       "version_major": 2,
       "version_minor": 0,
       "model_id": "d564ebe776754cdfad8df8263e6a049e"
      }
     },
     "metadata": {},
     "output_type": "display_data"
    },
    {
     "data": {
      "text/plain": "Downloading pytorch_model.bin:   0%|          | 0.00/90.9M [00:00<?, ?B/s]",
      "application/vnd.jupyter.widget-view+json": {
       "version_major": 2,
       "version_minor": 0,
       "model_id": "a9377255cf3948778f2d39a3996350a1"
      }
     },
     "metadata": {},
     "output_type": "display_data"
    },
    {
     "data": {
      "text/plain": "Downloading (…)nce_bert_config.json:   0%|          | 0.00/53.0 [00:00<?, ?B/s]",
      "application/vnd.jupyter.widget-view+json": {
       "version_major": 2,
       "version_minor": 0,
       "model_id": "3952c8342a254897bea8c9b1b4e57f6d"
      }
     },
     "metadata": {},
     "output_type": "display_data"
    },
    {
     "data": {
      "text/plain": "Downloading (…)cial_tokens_map.json:   0%|          | 0.00/112 [00:00<?, ?B/s]",
      "application/vnd.jupyter.widget-view+json": {
       "version_major": 2,
       "version_minor": 0,
       "model_id": "4c6c11cc2a754038a09d7d099c12497c"
      }
     },
     "metadata": {},
     "output_type": "display_data"
    },
    {
     "data": {
      "text/plain": "Downloading (…)e9125/tokenizer.json:   0%|          | 0.00/466k [00:00<?, ?B/s]",
      "application/vnd.jupyter.widget-view+json": {
       "version_major": 2,
       "version_minor": 0,
       "model_id": "7c19598d3cfc4c41ac653b8b72b6ffeb"
      }
     },
     "metadata": {},
     "output_type": "display_data"
    },
    {
     "data": {
      "text/plain": "Downloading (…)okenizer_config.json:   0%|          | 0.00/350 [00:00<?, ?B/s]",
      "application/vnd.jupyter.widget-view+json": {
       "version_major": 2,
       "version_minor": 0,
       "model_id": "3bf098e703be4f0ba32eabff63da0469"
      }
     },
     "metadata": {},
     "output_type": "display_data"
    },
    {
     "data": {
      "text/plain": "Downloading (…)9125/train_script.py:   0%|          | 0.00/13.2k [00:00<?, ?B/s]",
      "application/vnd.jupyter.widget-view+json": {
       "version_major": 2,
       "version_minor": 0,
       "model_id": "940392b5780f403b9c774f197821b8d6"
      }
     },
     "metadata": {},
     "output_type": "display_data"
    },
    {
     "data": {
      "text/plain": "Downloading (…)7e55de9125/vocab.txt:   0%|          | 0.00/232k [00:00<?, ?B/s]",
      "application/vnd.jupyter.widget-view+json": {
       "version_major": 2,
       "version_minor": 0,
       "model_id": "54d9a1be4d1d4b878d7d1222a33c574b"
      }
     },
     "metadata": {},
     "output_type": "display_data"
    },
    {
     "data": {
      "text/plain": "Downloading (…)5de9125/modules.json:   0%|          | 0.00/349 [00:00<?, ?B/s]",
      "application/vnd.jupyter.widget-view+json": {
       "version_major": 2,
       "version_minor": 0,
       "model_id": "4c9d748f7fbe41f3a21d710a570be865"
      }
     },
     "metadata": {},
     "output_type": "display_data"
    },
    {
     "name": "stderr",
     "output_type": "stream",
     "text": [
      "2023-08-03 14:17:43.357 INFO    sentence_transformers.SentenceTransformer: Use pytorch device: cpu\n"
     ]
    },
    {
     "data": {
      "text/plain": "Batches:   0%|          | 0/1 [00:00<?, ?it/s]",
      "application/vnd.jupyter.widget-view+json": {
       "version_major": 2,
       "version_minor": 0,
       "model_id": "0a747a4447bd4657a9bd913522814be3"
      }
     },
     "metadata": {},
     "output_type": "display_data"
    },
    {
     "name": "stdout",
     "output_type": "stream",
     "text": [
      "embedding length: 384\n"
     ]
    }
   ],
   "source": [
    "from langchain.embeddings import HuggingFaceEmbeddings, SentenceTransformerEmbeddings\n",
    "\n",
    "class UnknownEmbeddingModelType(Exception):\n",
    "  pass\n",
    "\n",
    "def get_embeddings(embedding_model:str, api_key:str=\"\")->str:\n",
    "  \"\"\"\n",
    "  Creates an embedder that would generate the embeddings of the query based on\n",
    "  the specified model\n",
    "  :@param api_key: API key used to query the end point\n",
    "  :@param embedding_model: model name needs to be one of\n",
    "    'OPENAI': Uses OpenAI Embeddings\n",
    "  \"\"\"\n",
    "  match embedding_model:\n",
    "    case 'OPENAI':\n",
    "      assert api_key != \"\", \"OPENAI API key must not be an empty string\"\n",
    "      embeddings = OpenAIEmbeddings(openai_api_key=api_key)\n",
    "\n",
    "    case 'sentence_transformers':\n",
    "      embeddings = SentenceTransformerEmbeddings(model_name=\"all-MiniLM-L6-v2\")\n",
    "\n",
    "    case _ :\n",
    "      raise UnknownSplitterType(\"needs to be one of {'OPENAI', sentence_transformers}\")\n",
    "\n",
    "  return embeddings\n",
    "\n",
    "embeddings = get_embeddings('sentence_transformers')\n",
    "query_result = embeddings.embed_query(\"Test\")\n",
    "print(f\"embedding length: {len(query_result)}\")"
   ],
   "metadata": {
    "collapsed": false,
    "ExecuteTime": {
     "end_time": "2023-08-03T18:17:43.425254600Z",
     "start_time": "2023-08-03T18:17:28.177622800Z"
    }
   }
  },
  {
   "cell_type": "code",
   "execution_count": 17,
   "outputs": [
    {
     "data": {
      "text/plain": "Batches:   0%|          | 0/1 [00:00<?, ?it/s]",
      "application/vnd.jupyter.widget-view+json": {
       "version_major": 2,
       "version_minor": 0,
       "model_id": "7d6a2f80875545b1b76c4ebeba3d697b"
      }
     },
     "metadata": {},
     "output_type": "display_data"
    },
    {
     "data": {
      "text/plain": "Batches:   0%|          | 0/1 [00:00<?, ?it/s]",
      "application/vnd.jupyter.widget-view+json": {
       "version_major": 2,
       "version_minor": 0,
       "model_id": "96a7d5a90dbf41f5b601b86607a28845"
      }
     },
     "metadata": {},
     "output_type": "display_data"
    },
    {
     "data": {
      "text/plain": "Batches:   0%|          | 0/1 [00:00<?, ?it/s]",
      "application/vnd.jupyter.widget-view+json": {
       "version_major": 2,
       "version_minor": 0,
       "model_id": "b52e3b8774ef497bb757d60874d2045a"
      }
     },
     "metadata": {},
     "output_type": "display_data"
    },
    {
     "data": {
      "text/plain": "Batches:   0%|          | 0/1 [00:00<?, ?it/s]",
      "application/vnd.jupyter.widget-view+json": {
       "version_major": 2,
       "version_minor": 0,
       "model_id": "b2326c014cb24558aa17fb8f31e0e912"
      }
     },
     "metadata": {},
     "output_type": "display_data"
    },
    {
     "data": {
      "text/plain": "Batches:   0%|          | 0/1 [00:00<?, ?it/s]",
      "application/vnd.jupyter.widget-view+json": {
       "version_major": 2,
       "version_minor": 0,
       "model_id": "91ee57191172485696908746a9571156"
      }
     },
     "metadata": {},
     "output_type": "display_data"
    },
    {
     "data": {
      "text/plain": "Batches:   0%|          | 0/1 [00:00<?, ?it/s]",
      "application/vnd.jupyter.widget-view+json": {
       "version_major": 2,
       "version_minor": 0,
       "model_id": "23baae44df5d46ada0d05b324303681a"
      }
     },
     "metadata": {},
     "output_type": "display_data"
    },
    {
     "data": {
      "text/plain": "Batches:   0%|          | 0/1 [00:00<?, ?it/s]",
      "application/vnd.jupyter.widget-view+json": {
       "version_major": 2,
       "version_minor": 0,
       "model_id": "292b9a9b0db1488eb512cec900006c4b"
      }
     },
     "metadata": {},
     "output_type": "display_data"
    },
    {
     "data": {
      "text/plain": "Batches:   0%|          | 0/1 [00:00<?, ?it/s]",
      "application/vnd.jupyter.widget-view+json": {
       "version_major": 2,
       "version_minor": 0,
       "model_id": "4b0c729bc30a428ab667f7750d1f0d9e"
      }
     },
     "metadata": {},
     "output_type": "display_data"
    },
    {
     "data": {
      "text/plain": "Batches:   0%|          | 0/1 [00:00<?, ?it/s]",
      "application/vnd.jupyter.widget-view+json": {
       "version_major": 2,
       "version_minor": 0,
       "model_id": "aedf812319c641a9b3a603f7d2ca39ec"
      }
     },
     "metadata": {},
     "output_type": "display_data"
    },
    {
     "data": {
      "text/plain": "Batches:   0%|          | 0/1 [00:00<?, ?it/s]",
      "application/vnd.jupyter.widget-view+json": {
       "version_major": 2,
       "version_minor": 0,
       "model_id": "5f0a001961924e91b1ae72d5ebf5402c"
      }
     },
     "metadata": {},
     "output_type": "display_data"
    },
    {
     "data": {
      "text/plain": "Batches:   0%|          | 0/1 [00:00<?, ?it/s]",
      "application/vnd.jupyter.widget-view+json": {
       "version_major": 2,
       "version_minor": 0,
       "model_id": "a24b09da1f2f44c8a7c9e91f953653b6"
      }
     },
     "metadata": {},
     "output_type": "display_data"
    },
    {
     "data": {
      "text/plain": "Batches:   0%|          | 0/1 [00:00<?, ?it/s]",
      "application/vnd.jupyter.widget-view+json": {
       "version_major": 2,
       "version_minor": 0,
       "model_id": "888bc63bddd04a26b58fb1fa292901f3"
      }
     },
     "metadata": {},
     "output_type": "display_data"
    },
    {
     "data": {
      "text/plain": "Batches:   0%|          | 0/1 [00:00<?, ?it/s]",
      "application/vnd.jupyter.widget-view+json": {
       "version_major": 2,
       "version_minor": 0,
       "model_id": "4e435f4d88234582bf001caca04d8da8"
      }
     },
     "metadata": {},
     "output_type": "display_data"
    },
    {
     "data": {
      "text/plain": "Batches:   0%|          | 0/1 [00:00<?, ?it/s]",
      "application/vnd.jupyter.widget-view+json": {
       "version_major": 2,
       "version_minor": 0,
       "model_id": "36a0803a019e45d0b82f8b99a0a529f5"
      }
     },
     "metadata": {},
     "output_type": "display_data"
    },
    {
     "data": {
      "text/plain": "Batches:   0%|          | 0/1 [00:00<?, ?it/s]",
      "application/vnd.jupyter.widget-view+json": {
       "version_major": 2,
       "version_minor": 0,
       "model_id": "deed916490de4a9f97a019dc64cd968b"
      }
     },
     "metadata": {},
     "output_type": "display_data"
    },
    {
     "data": {
      "text/plain": "Batches:   0%|          | 0/1 [00:00<?, ?it/s]",
      "application/vnd.jupyter.widget-view+json": {
       "version_major": 2,
       "version_minor": 0,
       "model_id": "045b926cfb8847fd904051eaaea47892"
      }
     },
     "metadata": {},
     "output_type": "display_data"
    },
    {
     "data": {
      "text/plain": "Batches:   0%|          | 0/1 [00:00<?, ?it/s]",
      "application/vnd.jupyter.widget-view+json": {
       "version_major": 2,
       "version_minor": 0,
       "model_id": "7c8e2117fd7746f8b2a40942b6537dbd"
      }
     },
     "metadata": {},
     "output_type": "display_data"
    },
    {
     "data": {
      "text/plain": "Batches:   0%|          | 0/1 [00:00<?, ?it/s]",
      "application/vnd.jupyter.widget-view+json": {
       "version_major": 2,
       "version_minor": 0,
       "model_id": "6af19e1766134e6eb9035185f8d6d10b"
      }
     },
     "metadata": {},
     "output_type": "display_data"
    },
    {
     "data": {
      "text/plain": "Batches:   0%|          | 0/1 [00:00<?, ?it/s]",
      "application/vnd.jupyter.widget-view+json": {
       "version_major": 2,
       "version_minor": 0,
       "model_id": "a5c28e1b2d16406499ad08958508496b"
      }
     },
     "metadata": {},
     "output_type": "display_data"
    },
    {
     "data": {
      "text/plain": "Batches:   0%|          | 0/1 [00:00<?, ?it/s]",
      "application/vnd.jupyter.widget-view+json": {
       "version_major": 2,
       "version_minor": 0,
       "model_id": "df96de602b8e4f29bd9f7470422bdf5d"
      }
     },
     "metadata": {},
     "output_type": "display_data"
    },
    {
     "data": {
      "text/plain": "Batches:   0%|          | 0/1 [00:00<?, ?it/s]",
      "application/vnd.jupyter.widget-view+json": {
       "version_major": 2,
       "version_minor": 0,
       "model_id": "ec66934bddf44f10bc5bf67f8fa81d07"
      }
     },
     "metadata": {},
     "output_type": "display_data"
    },
    {
     "data": {
      "text/plain": "Batches:   0%|          | 0/1 [00:00<?, ?it/s]",
      "application/vnd.jupyter.widget-view+json": {
       "version_major": 2,
       "version_minor": 0,
       "model_id": "b82a61f6b5184766b588b5f06f3a1d5c"
      }
     },
     "metadata": {},
     "output_type": "display_data"
    },
    {
     "data": {
      "text/plain": "Batches:   0%|          | 0/1 [00:00<?, ?it/s]",
      "application/vnd.jupyter.widget-view+json": {
       "version_major": 2,
       "version_minor": 0,
       "model_id": "9fe660b8f0e0443c89612995049f91c6"
      }
     },
     "metadata": {},
     "output_type": "display_data"
    },
    {
     "data": {
      "text/plain": "Batches:   0%|          | 0/1 [00:00<?, ?it/s]",
      "application/vnd.jupyter.widget-view+json": {
       "version_major": 2,
       "version_minor": 0,
       "model_id": "b82b20a726064b368ee91bb6a1f80bd0"
      }
     },
     "metadata": {},
     "output_type": "display_data"
    },
    {
     "data": {
      "text/plain": "Batches:   0%|          | 0/1 [00:00<?, ?it/s]",
      "application/vnd.jupyter.widget-view+json": {
       "version_major": 2,
       "version_minor": 0,
       "model_id": "928bfbfe1cb945c88c9249179b04e7b7"
      }
     },
     "metadata": {},
     "output_type": "display_data"
    },
    {
     "data": {
      "text/plain": "Batches:   0%|          | 0/1 [00:00<?, ?it/s]",
      "application/vnd.jupyter.widget-view+json": {
       "version_major": 2,
       "version_minor": 0,
       "model_id": "34cd06c72e404ba3a1fd76023ceb8f05"
      }
     },
     "metadata": {},
     "output_type": "display_data"
    },
    {
     "data": {
      "text/plain": "Batches:   0%|          | 0/1 [00:00<?, ?it/s]",
      "application/vnd.jupyter.widget-view+json": {
       "version_major": 2,
       "version_minor": 0,
       "model_id": "05a3fb1466b1421ebdc27cd3ddd31e33"
      }
     },
     "metadata": {},
     "output_type": "display_data"
    },
    {
     "data": {
      "text/plain": "Batches:   0%|          | 0/1 [00:00<?, ?it/s]",
      "application/vnd.jupyter.widget-view+json": {
       "version_major": 2,
       "version_minor": 0,
       "model_id": "20997b1d4d1943b686b1cb480db1bb80"
      }
     },
     "metadata": {},
     "output_type": "display_data"
    },
    {
     "data": {
      "text/plain": "Batches:   0%|          | 0/1 [00:00<?, ?it/s]",
      "application/vnd.jupyter.widget-view+json": {
       "version_major": 2,
       "version_minor": 0,
       "model_id": "13582153ef874a6e81e59420cb823fb0"
      }
     },
     "metadata": {},
     "output_type": "display_data"
    }
   ],
   "source": [
    "import pinecone\n",
    "from langchain.vectorstores import Pinecone\n",
    "\n",
    "pinecone.init(\n",
    "    api_key= \"232e5f68-2d67-4bc2-9ab4-6dd3855f6e49\",\n",
    "    environment=\"us-west4-gcp\"\n",
    ")\n",
    "\n",
    "index = Pinecone.from_documents(docs, embeddings, index_name=\"plastic-cases-index\")"
   ],
   "metadata": {
    "collapsed": false,
    "ExecuteTime": {
     "end_time": "2023-08-03T18:20:24.821691800Z",
     "start_time": "2023-08-03T18:19:48.185249600Z"
    }
   }
  },
  {
   "cell_type": "code",
   "execution_count": null,
   "outputs": [],
   "source": [],
   "metadata": {
    "collapsed": false
   }
  }
 ],
 "metadata": {
  "kernelspec": {
   "display_name": "Python 3",
   "language": "python",
   "name": "python3"
  },
  "language_info": {
   "codemirror_mode": {
    "name": "ipython",
    "version": 2
   },
   "file_extension": ".py",
   "mimetype": "text/x-python",
   "name": "python",
   "nbconvert_exporter": "python",
   "pygments_lexer": "ipython2",
   "version": "2.7.6"
  }
 },
 "nbformat": 4,
 "nbformat_minor": 0
}
